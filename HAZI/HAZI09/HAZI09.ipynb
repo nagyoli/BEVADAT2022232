{
 "cells": [
  {
   "cell_type": "code",
   "execution_count": 1,
   "outputs": [],
   "source": [
    "%load_ext autoreload\n",
    "%autoreload 2"
   ],
   "metadata": {
    "collapsed": false,
    "ExecuteTime": {
     "start_time": "2023-05-02T22:29:37.162112Z",
     "end_time": "2023-05-02T22:29:37.206112Z"
    }
   }
  },
  {
   "cell_type": "code",
   "execution_count": 2,
   "outputs": [],
   "source": [
    "# imports\n",
    "import matplotlib.pyplot as plt\n",
    "import pandas as pd\n",
    "import seaborn as sns\n",
    "sns.set()\n",
    "import numpy as np\n",
    "from typing import Tuple\n",
    "\n",
    "from sklearn.cluster import KMeans\n",
    "from sklearn.metrics import accuracy_score\n",
    "from scipy.stats import mode\n",
    "from sklearn.metrics import confusion_matrix\n",
    "\n",
    "from sklearn import datasets"
   ],
   "metadata": {
    "collapsed": false,
    "ExecuteTime": {
     "start_time": "2023-05-02T22:29:37.207113Z",
     "end_time": "2023-05-02T22:29:37.455112Z"
    }
   }
  },
  {
   "cell_type": "code",
   "execution_count": 3,
   "metadata": {
    "ExecuteTime": {
     "start_time": "2023-05-02T22:29:37.455112Z",
     "end_time": "2023-05-02T22:29:37.500004Z"
    }
   },
   "outputs": [],
   "source": [
    "# Készíts egy függvényt ami betölti a digits datasetet \n",
    "# NOTE: használd az sklearn load_digits-et\n",
    "# Függvény neve: load_digits()\n",
    "# Függvény visszatérési értéke: a load_digits visszatérési értéke\n",
    "def load_digits():\n",
    "    return datasets.load_digits()"
   ]
  },
  {
   "cell_type": "code",
   "execution_count": 4,
   "outputs": [],
   "source": [
    "data = load_digits()"
   ],
   "metadata": {
    "collapsed": false,
    "ExecuteTime": {
     "start_time": "2023-05-02T22:29:37.502004Z",
     "end_time": "2023-05-02T22:29:37.566003Z"
    }
   }
  },
  {
   "cell_type": "code",
   "execution_count": 5,
   "metadata": {
    "ExecuteTime": {
     "start_time": "2023-05-02T22:29:37.563003Z",
     "end_time": "2023-05-02T22:29:37.625003Z"
    }
   },
   "outputs": [
    {
     "data": {
      "text/plain": "      pixel_0_0  pixel_0_1  pixel_0_2  pixel_0_3  pixel_0_4  pixel_0_5   \n0           0.0        0.0        5.0       13.0        9.0        1.0  \\\n1           0.0        0.0        0.0       12.0       13.0        5.0   \n2           0.0        0.0        0.0        4.0       15.0       12.0   \n3           0.0        0.0        7.0       15.0       13.0        1.0   \n4           0.0        0.0        0.0        1.0       11.0        0.0   \n...         ...        ...        ...        ...        ...        ...   \n1792        0.0        0.0        4.0       10.0       13.0        6.0   \n1793        0.0        0.0        6.0       16.0       13.0       11.0   \n1794        0.0        0.0        1.0       11.0       15.0        1.0   \n1795        0.0        0.0        2.0       10.0        7.0        0.0   \n1796        0.0        0.0       10.0       14.0        8.0        1.0   \n\n      pixel_0_6  pixel_0_7  pixel_1_0  pixel_1_1  ...  pixel_6_6  pixel_6_7   \n0           0.0        0.0        0.0        0.0  ...        0.0        0.0  \\\n1           0.0        0.0        0.0        0.0  ...        0.0        0.0   \n2           0.0        0.0        0.0        0.0  ...        5.0        0.0   \n3           0.0        0.0        0.0        8.0  ...        9.0        0.0   \n4           0.0        0.0        0.0        0.0  ...        0.0        0.0   \n...         ...        ...        ...        ...  ...        ...        ...   \n1792        0.0        0.0        0.0        1.0  ...        4.0        0.0   \n1793        1.0        0.0        0.0        0.0  ...        1.0        0.0   \n1794        0.0        0.0        0.0        0.0  ...        0.0        0.0   \n1795        0.0        0.0        0.0        0.0  ...        2.0        0.0   \n1796        0.0        0.0        0.0        2.0  ...        8.0        0.0   \n\n      pixel_7_0  pixel_7_1  pixel_7_2  pixel_7_3  pixel_7_4  pixel_7_5   \n0           0.0        0.0        6.0       13.0       10.0        0.0  \\\n1           0.0        0.0        0.0       11.0       16.0       10.0   \n2           0.0        0.0        0.0        3.0       11.0       16.0   \n3           0.0        0.0        7.0       13.0       13.0        9.0   \n4           0.0        0.0        0.0        2.0       16.0        4.0   \n...         ...        ...        ...        ...        ...        ...   \n1792        0.0        0.0        2.0       14.0       15.0        9.0   \n1793        0.0        0.0        6.0       16.0       14.0        6.0   \n1794        0.0        0.0        2.0        9.0       13.0        6.0   \n1795        0.0        0.0        5.0       12.0       16.0       12.0   \n1796        0.0        1.0        8.0       12.0       14.0       12.0   \n\n      pixel_7_6  pixel_7_7  \n0           0.0        0.0  \n1           0.0        0.0  \n2           9.0        0.0  \n3           0.0        0.0  \n4           0.0        0.0  \n...         ...        ...  \n1792        0.0        0.0  \n1793        0.0        0.0  \n1794        0.0        0.0  \n1795        0.0        0.0  \n1796        1.0        0.0  \n\n[1797 rows x 64 columns]",
      "text/html": "<div>\n<style scoped>\n    .dataframe tbody tr th:only-of-type {\n        vertical-align: middle;\n    }\n\n    .dataframe tbody tr th {\n        vertical-align: top;\n    }\n\n    .dataframe thead th {\n        text-align: right;\n    }\n</style>\n<table border=\"1\" class=\"dataframe\">\n  <thead>\n    <tr style=\"text-align: right;\">\n      <th></th>\n      <th>pixel_0_0</th>\n      <th>pixel_0_1</th>\n      <th>pixel_0_2</th>\n      <th>pixel_0_3</th>\n      <th>pixel_0_4</th>\n      <th>pixel_0_5</th>\n      <th>pixel_0_6</th>\n      <th>pixel_0_7</th>\n      <th>pixel_1_0</th>\n      <th>pixel_1_1</th>\n      <th>...</th>\n      <th>pixel_6_6</th>\n      <th>pixel_6_7</th>\n      <th>pixel_7_0</th>\n      <th>pixel_7_1</th>\n      <th>pixel_7_2</th>\n      <th>pixel_7_3</th>\n      <th>pixel_7_4</th>\n      <th>pixel_7_5</th>\n      <th>pixel_7_6</th>\n      <th>pixel_7_7</th>\n    </tr>\n  </thead>\n  <tbody>\n    <tr>\n      <th>0</th>\n      <td>0.0</td>\n      <td>0.0</td>\n      <td>5.0</td>\n      <td>13.0</td>\n      <td>9.0</td>\n      <td>1.0</td>\n      <td>0.0</td>\n      <td>0.0</td>\n      <td>0.0</td>\n      <td>0.0</td>\n      <td>...</td>\n      <td>0.0</td>\n      <td>0.0</td>\n      <td>0.0</td>\n      <td>0.0</td>\n      <td>6.0</td>\n      <td>13.0</td>\n      <td>10.0</td>\n      <td>0.0</td>\n      <td>0.0</td>\n      <td>0.0</td>\n    </tr>\n    <tr>\n      <th>1</th>\n      <td>0.0</td>\n      <td>0.0</td>\n      <td>0.0</td>\n      <td>12.0</td>\n      <td>13.0</td>\n      <td>5.0</td>\n      <td>0.0</td>\n      <td>0.0</td>\n      <td>0.0</td>\n      <td>0.0</td>\n      <td>...</td>\n      <td>0.0</td>\n      <td>0.0</td>\n      <td>0.0</td>\n      <td>0.0</td>\n      <td>0.0</td>\n      <td>11.0</td>\n      <td>16.0</td>\n      <td>10.0</td>\n      <td>0.0</td>\n      <td>0.0</td>\n    </tr>\n    <tr>\n      <th>2</th>\n      <td>0.0</td>\n      <td>0.0</td>\n      <td>0.0</td>\n      <td>4.0</td>\n      <td>15.0</td>\n      <td>12.0</td>\n      <td>0.0</td>\n      <td>0.0</td>\n      <td>0.0</td>\n      <td>0.0</td>\n      <td>...</td>\n      <td>5.0</td>\n      <td>0.0</td>\n      <td>0.0</td>\n      <td>0.0</td>\n      <td>0.0</td>\n      <td>3.0</td>\n      <td>11.0</td>\n      <td>16.0</td>\n      <td>9.0</td>\n      <td>0.0</td>\n    </tr>\n    <tr>\n      <th>3</th>\n      <td>0.0</td>\n      <td>0.0</td>\n      <td>7.0</td>\n      <td>15.0</td>\n      <td>13.0</td>\n      <td>1.0</td>\n      <td>0.0</td>\n      <td>0.0</td>\n      <td>0.0</td>\n      <td>8.0</td>\n      <td>...</td>\n      <td>9.0</td>\n      <td>0.0</td>\n      <td>0.0</td>\n      <td>0.0</td>\n      <td>7.0</td>\n      <td>13.0</td>\n      <td>13.0</td>\n      <td>9.0</td>\n      <td>0.0</td>\n      <td>0.0</td>\n    </tr>\n    <tr>\n      <th>4</th>\n      <td>0.0</td>\n      <td>0.0</td>\n      <td>0.0</td>\n      <td>1.0</td>\n      <td>11.0</td>\n      <td>0.0</td>\n      <td>0.0</td>\n      <td>0.0</td>\n      <td>0.0</td>\n      <td>0.0</td>\n      <td>...</td>\n      <td>0.0</td>\n      <td>0.0</td>\n      <td>0.0</td>\n      <td>0.0</td>\n      <td>0.0</td>\n      <td>2.0</td>\n      <td>16.0</td>\n      <td>4.0</td>\n      <td>0.0</td>\n      <td>0.0</td>\n    </tr>\n    <tr>\n      <th>...</th>\n      <td>...</td>\n      <td>...</td>\n      <td>...</td>\n      <td>...</td>\n      <td>...</td>\n      <td>...</td>\n      <td>...</td>\n      <td>...</td>\n      <td>...</td>\n      <td>...</td>\n      <td>...</td>\n      <td>...</td>\n      <td>...</td>\n      <td>...</td>\n      <td>...</td>\n      <td>...</td>\n      <td>...</td>\n      <td>...</td>\n      <td>...</td>\n      <td>...</td>\n      <td>...</td>\n    </tr>\n    <tr>\n      <th>1792</th>\n      <td>0.0</td>\n      <td>0.0</td>\n      <td>4.0</td>\n      <td>10.0</td>\n      <td>13.0</td>\n      <td>6.0</td>\n      <td>0.0</td>\n      <td>0.0</td>\n      <td>0.0</td>\n      <td>1.0</td>\n      <td>...</td>\n      <td>4.0</td>\n      <td>0.0</td>\n      <td>0.0</td>\n      <td>0.0</td>\n      <td>2.0</td>\n      <td>14.0</td>\n      <td>15.0</td>\n      <td>9.0</td>\n      <td>0.0</td>\n      <td>0.0</td>\n    </tr>\n    <tr>\n      <th>1793</th>\n      <td>0.0</td>\n      <td>0.0</td>\n      <td>6.0</td>\n      <td>16.0</td>\n      <td>13.0</td>\n      <td>11.0</td>\n      <td>1.0</td>\n      <td>0.0</td>\n      <td>0.0</td>\n      <td>0.0</td>\n      <td>...</td>\n      <td>1.0</td>\n      <td>0.0</td>\n      <td>0.0</td>\n      <td>0.0</td>\n      <td>6.0</td>\n      <td>16.0</td>\n      <td>14.0</td>\n      <td>6.0</td>\n      <td>0.0</td>\n      <td>0.0</td>\n    </tr>\n    <tr>\n      <th>1794</th>\n      <td>0.0</td>\n      <td>0.0</td>\n      <td>1.0</td>\n      <td>11.0</td>\n      <td>15.0</td>\n      <td>1.0</td>\n      <td>0.0</td>\n      <td>0.0</td>\n      <td>0.0</td>\n      <td>0.0</td>\n      <td>...</td>\n      <td>0.0</td>\n      <td>0.0</td>\n      <td>0.0</td>\n      <td>0.0</td>\n      <td>2.0</td>\n      <td>9.0</td>\n      <td>13.0</td>\n      <td>6.0</td>\n      <td>0.0</td>\n      <td>0.0</td>\n    </tr>\n    <tr>\n      <th>1795</th>\n      <td>0.0</td>\n      <td>0.0</td>\n      <td>2.0</td>\n      <td>10.0</td>\n      <td>7.0</td>\n      <td>0.0</td>\n      <td>0.0</td>\n      <td>0.0</td>\n      <td>0.0</td>\n      <td>0.0</td>\n      <td>...</td>\n      <td>2.0</td>\n      <td>0.0</td>\n      <td>0.0</td>\n      <td>0.0</td>\n      <td>5.0</td>\n      <td>12.0</td>\n      <td>16.0</td>\n      <td>12.0</td>\n      <td>0.0</td>\n      <td>0.0</td>\n    </tr>\n    <tr>\n      <th>1796</th>\n      <td>0.0</td>\n      <td>0.0</td>\n      <td>10.0</td>\n      <td>14.0</td>\n      <td>8.0</td>\n      <td>1.0</td>\n      <td>0.0</td>\n      <td>0.0</td>\n      <td>0.0</td>\n      <td>2.0</td>\n      <td>...</td>\n      <td>8.0</td>\n      <td>0.0</td>\n      <td>0.0</td>\n      <td>1.0</td>\n      <td>8.0</td>\n      <td>12.0</td>\n      <td>14.0</td>\n      <td>12.0</td>\n      <td>1.0</td>\n      <td>0.0</td>\n    </tr>\n  </tbody>\n</table>\n<p>1797 rows × 64 columns</p>\n</div>"
     },
     "execution_count": 5,
     "metadata": {},
     "output_type": "execute_result"
    }
   ],
   "source": [
    "# Vizsgáld meg a betöltött adatszetet (milyen elemek vannak benne stb.)\n",
    "df = pd.DataFrame(data.data, columns=data.feature_names)\n",
    "df"
   ]
  },
  {
   "cell_type": "code",
   "execution_count": 6,
   "metadata": {
    "ExecuteTime": {
     "start_time": "2023-05-02T22:29:37.625003Z",
     "end_time": "2023-05-02T22:29:37.706004Z"
    }
   },
   "outputs": [
    {
     "name": "stdout",
     "output_type": "stream",
     "text": [
      "(1797, 64)\n"
     ]
    },
    {
     "data": {
      "text/plain": "array([0, 1, 2, ..., 8, 9, 8])"
     },
     "execution_count": 6,
     "metadata": {},
     "output_type": "execute_result"
    }
   ],
   "source": [
    "# Vizsgáld meg a data paraméterét a digits dataset-nek (tartalom,shape...)\n",
    "print(df.shape)\n",
    "data.target"
   ]
  },
  {
   "cell_type": "code",
   "execution_count": 7,
   "metadata": {
    "ExecuteTime": {
     "start_time": "2023-05-02T22:29:37.672003Z",
     "end_time": "2023-05-02T22:29:37.763003Z"
    }
   },
   "outputs": [],
   "source": [
    "# Készíts egy függvényt ami létrehoz egy KMeans model-t 10 db cluster-el\n",
    "# NOTE: használd az sklearn Kmeans model-jét (random_state legyen 0)\n",
    "# Miután megvan a model predict-elj vele \n",
    "# NOTE: használd a fit_predict-et\n",
    "# Függvény neve: predict(n_clusters:int,random_state:int,digits)\n",
    "# Függvény visszatérési értéke: (model:sklearn.cluster.KMeans,clusters:np.ndarray)\n",
    "\n",
    "def predict(n_clusters:int, random_state:int, digits) -> Tuple[KMeans, np.ndarray]:\n",
    "    kmeans = KMeans(n_clusters=n_clusters, random_state=random_state)\n",
    "    preds = kmeans.fit_predict(digits)\n",
    "    return kmeans, preds"
   ]
  },
  {
   "cell_type": "code",
   "execution_count": 8,
   "metadata": {
    "ExecuteTime": {
     "start_time": "2023-05-02T22:29:37.718004Z",
     "end_time": "2023-05-02T22:29:37.900003Z"
    }
   },
   "outputs": [
    {
     "name": "stderr",
     "output_type": "stream",
     "text": [
      "D:\\Egyetem\\BevAdat\\FQQQOC_BEVADAT2022232\\.venv\\lib\\site-packages\\sklearn\\cluster\\_kmeans.py:870: FutureWarning: The default value of `n_init` will change from 10 to 'auto' in 1.4. Set the value of `n_init` explicitly to suppress the warning\n",
      "  warnings.warn(\n"
     ]
    },
    {
     "data": {
      "text/plain": "(10, 64)"
     },
     "execution_count": 8,
     "metadata": {},
     "output_type": "execute_result"
    }
   ],
   "source": [
    "# Vizsgáld meg a shape-jét a kapott model cluster_centers_ paraméterének.\n",
    "model, clusters = predict(n_clusters=10, random_state=0, digits=data.data)\n",
    "model.cluster_centers_.shape"
   ]
  },
  {
   "cell_type": "code",
   "execution_count": 9,
   "metadata": {
    "ExecuteTime": {
     "start_time": "2023-05-02T22:29:37.904003Z",
     "end_time": "2023-05-02T22:29:38.093004Z"
    }
   },
   "outputs": [
    {
     "data": {
      "text/plain": "<Figure size 640x480 with 1 Axes>",
      "image/png": "[encoded data removed]"
     },
     "metadata": {},
     "output_type": "display_data"
    }
   ],
   "source": [
    "# Készíts egy plotot ami a cluster középpontokat megjeleníti\n",
    "plt.scatter(model.cluster_centers_[:,0],model.cluster_centers_[:,1])\n",
    "plt.show()"
   ]
  },
  {
   "cell_type": "code",
   "execution_count": 10,
   "metadata": {
    "ExecuteTime": {
     "start_time": "2023-05-02T22:29:38.092003Z",
     "end_time": "2023-05-02T22:29:38.142004Z"
    }
   },
   "outputs": [],
   "source": [
    "# Készíts egy függvényt ami visszaadja a predictált cluster osztályokat\n",
    "# NOTE: amit a predict-ből visszakaptunk \"clusters\" azok lesznek a predictált cluster osztályok\n",
    "# HELP: amit a model predictált cluster osztályok még nem a labelek, hanem csak random cluster osztályok, \n",
    "#       Hogy label legyen belőlük:\n",
    "#       1. készíts egy result array-t ami ugyan annyi elemű mint a predictált cluster array\n",
    "#       2. menj végig mindegyik cluster osztályon (0,1....9)\n",
    "#       3. készíts egy maszkot ami az adott cluster osztályba tartozó elemeket adja vissza\n",
    "#       4. a digits.target-jét indexeld meg ezzel a maszkkal\n",
    "#       5. számold ki ennel a subarray-nek a móduszát\n",
    "#       6. a result array-ben tedd egyenlővé a módusszal azokat az indexeket ahol a maszk True \n",
    "#       Erre azért van szükség mert semmi nem biztosítja nekünk azt, hogy a \"0\" cluster a \"0\" label lesz, lehet, hogy az \"5\" label lenne az.\n",
    "\n",
    "# Függvény neve: get_labels(clusters:np.ndarray, digits)\n",
    "# Függvény visszatérési értéke: labels:np.ndarray\n",
    "def get_labels(clusters:np.ndarray, digits):\n",
    "    result = np.zeros_like(clusters)\n",
    "    for i in range(10):\n",
    "        mask = (clusters == i)\n",
    "        subarray = digits.target[mask]\n",
    "        mode = np.bincount(subarray).argmax()\n",
    "        result[mask] = mode\n",
    "    return result"
   ]
  },
  {
   "cell_type": "code",
   "execution_count": 11,
   "outputs": [
    {
     "data": {
      "text/plain": "array([0, 8, 8, ..., 8, 9, 9])"
     },
     "execution_count": 11,
     "metadata": {},
     "output_type": "execute_result"
    }
   ],
   "source": [
    "labels = get_labels(clusters,data)\n",
    "labels"
   ],
   "metadata": {
    "collapsed": false,
    "ExecuteTime": {
     "start_time": "2023-05-02T22:29:38.137004Z",
     "end_time": "2023-05-02T22:29:38.211003Z"
    }
   }
  },
  {
   "cell_type": "code",
   "execution_count": 12,
   "metadata": {
    "ExecuteTime": {
     "start_time": "2023-05-02T22:29:38.199003Z",
     "end_time": "2023-05-02T22:29:38.261003Z"
    }
   },
   "outputs": [],
   "source": [
    "# Készíts egy függvényt ami kiszámolja a model accuracy-jét\n",
    "# Függvény neve: calc_accuracy(target_labels:np.ndarray,predicted_labels:np.ndarray)\n",
    "# Függvény visszatérési értéke: accuracy:float\n",
    "# NOTE: Kerekítsd 2 tizedes jegyre az accuracy-t\n",
    "def calc_accuracy(target_labels:np.ndarray, predicted_labels:np.ndarray) -> float:\n",
    "    return round(accuracy_score(target_labels, predicted_labels), 2)"
   ]
  },
  {
   "cell_type": "code",
   "execution_count": 13,
   "metadata": {
    "ExecuteTime": {
     "start_time": "2023-05-02T22:29:38.245003Z",
     "end_time": "2023-05-02T22:29:38.457003Z"
    }
   },
   "outputs": [
    {
     "data": {
      "text/plain": "<Figure size 640x480 with 2 Axes>",
      "image/png": "[encoded data removed]"
     },
     "metadata": {},
     "output_type": "display_data"
    }
   ],
   "source": [
    "# Készíts egy confusion mátrixot és plot-old seaborn segítségével\n",
    "conf_matrix = confusion_matrix(data.target, labels)\n",
    "sns.heatmap(conf_matrix)\n",
    "plt.xlabel('Predicted')\n",
    "plt.ylabel('True')\n",
    "plt.title('Confusion matrix')\n",
    "\n",
    "plt.show()"
   ]
  },
  {
   "cell_type": "code",
   "execution_count": 15,
   "outputs": [
    {
     "name": "stderr",
     "output_type": "stream",
     "text": [
      "D:\\Egyetem\\BevAdat\\FQQQOC_BEVADAT2022232\\.venv\\lib\\site-packages\\sklearn\\cluster\\_kmeans.py:870: FutureWarning: The default value of `n_init` will change from 10 to 'auto' in 1.4. Set the value of `n_init` explicitly to suppress the warning\n",
      "  warnings.warn(\n"
     ]
    }
   ],
   "source": [
    "from HAZI.HAZI09.HAZI09 import KMeansOnDigits\n",
    "\n",
    "clf = KMeansOnDigits(10, 0)\n",
    "clf.load_dataset()\n",
    "clf.predict()\n",
    "clf.get_labels()\n",
    "clf.calc_accuracy()\n",
    "clf.confusion_matrix()"
   ],
   "metadata": {
    "collapsed": false,
    "ExecuteTime": {
     "start_time": "2023-05-02T22:29:49.270102Z",
     "end_time": "2023-05-02T22:29:49.428090Z"
    }
   }
  },
  {
   "cell_type": "code",
   "execution_count": 16,
   "outputs": [
    {
     "data": {
      "text/plain": "<Figure size 640x480 with 2 Axes>",
      "image/png": "[encoded data removed]"
     },
     "metadata": {},
     "output_type": "display_data"
    }
   ],
   "source": [
    "sns.heatmap(clf.mat)\n",
    "plt.xlabel('Predicted')\n",
    "plt.ylabel('True')\n",
    "plt.title('Confusion matrix')\n",
    "\n",
    "plt.show()"
   ],
   "metadata": {
    "collapsed": false,
    "ExecuteTime": {
     "start_time": "2023-05-02T22:30:13.509350Z",
     "end_time": "2023-05-02T22:30:13.714338Z"
    }
   }
  },
  {
   "cell_type": "code",
   "execution_count": 14,
   "outputs": [],
   "source": [],
   "metadata": {
    "collapsed": false,
    "ExecuteTime": {
     "start_time": "2023-05-02T22:29:38.644003Z",
     "end_time": "2023-05-02T22:29:38.703002Z"
    }
   }
  },
  {
   "cell_type": "code",
   "execution_count": 14,
   "outputs": [],
   "source": [],
   "metadata": {
    "collapsed": false,
    "ExecuteTime": {
     "start_time": "2023-05-02T22:29:38.661003Z",
     "end_time": "2023-05-02T22:29:38.715003Z"
    }
   }
  }
 ],
 "metadata": {
  "kernelspec": {
   "display_name": "Python 3",
   "language": "python",
   "name": "python3"
  },
  "language_info": {
   "codemirror_mode": {
    "name": "ipython",
    "version": 3
   },
   "file_extension": ".py",
   "mimetype": "text/x-python",
   "name": "python",
   "nbconvert_exporter": "python",
   "pygments_lexer": "ipython3",
   "version": "3.10.6"
  },
  "orig_nbformat": 4
 },
 "nbformat": 4,
 "nbformat_minor": 2
}
