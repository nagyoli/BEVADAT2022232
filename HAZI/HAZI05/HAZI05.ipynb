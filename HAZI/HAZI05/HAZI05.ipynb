{
 "cells": [
  {
   "cell_type": "code",
   "execution_count": null,
   "metadata": {
    "collapsed": true,
    "ExecuteTime": {
     "start_time": "2023-04-05T16:51:26.483378Z",
     "end_time": "2023-04-05T16:51:27.103381Z"
    }
   },
   "outputs": [],
   "source": [
    "import numpy as np\n",
    "import pandas as pd\n",
    "from typing import Tuple\n",
    "from scipy.stats import mode\n",
    "from sklearn.metrics import confusion_matrix"
   ]
  },
  {
   "cell_type": "code",
   "execution_count": null,
   "outputs": [],
   "source": [
    "csv_path = \"iris.csv\"\n",
    "pd.read_csv(csv_path, header=None)"
   ],
   "metadata": {
    "collapsed": false,
    "ExecuteTime": {
     "start_time": "2023-04-05T16:51:27.115318Z",
     "end_time": "2023-04-05T16:51:27.163739Z"
    }
   }
  },
  {
   "cell_type": "code",
   "execution_count": null,
   "outputs": [],
   "source": [
    "def load_csv(csv_path:str) ->Tuple[pd.DataFrame,pd.DataFrame]:\n",
    "    seed: int = 42\n",
    "    dataset = pd.read_csv(csv_path, delimiter=\",\", header=None, na_values=\"\\\"\\\"\", dtype=float)\n",
    "    dataset.sample(frac=1, random_state=seed)\n",
    "    dataset = dataset[dataset >= 0.0].dropna()\n",
    "    dataset = dataset[dataset <= 13.0].dropna()\n",
    "    dataset = dataset.reset_index()\n",
    "    x,y = dataset.iloc[:,:4],dataset.iloc[:,-1]\n",
    "    return x,y"
   ],
   "metadata": {
    "collapsed": false,
    "ExecuteTime": {
     "start_time": "2023-04-05T16:51:27.179849Z",
     "end_time": "2023-04-05T16:51:27.232766Z"
    }
   }
  },
  {
   "cell_type": "code",
   "execution_count": null,
   "outputs": [],
   "source": [
    "x,y = load_csv(csv_path)\n",
    "x,y"
   ],
   "metadata": {
    "collapsed": false,
    "ExecuteTime": {
     "start_time": "2023-04-05T16:51:27.196714Z",
     "end_time": "2023-04-05T16:51:27.543958Z"
    }
   }
  },
  {
   "cell_type": "code",
   "execution_count": null,
   "outputs": [],
   "source": [
    "x[x.isna()] = 3.5"
   ],
   "metadata": {
    "collapsed": false,
    "ExecuteTime": {
     "start_time": "2023-04-05T16:51:27.284712Z",
     "end_time": "2023-04-05T16:51:27.628469Z"
    }
   }
  },
  {
   "cell_type": "code",
   "execution_count": null,
   "outputs": [],
   "source": [
    "x.head(n=150)"
   ],
   "metadata": {
    "collapsed": false,
    "ExecuteTime": {
     "start_time": "2023-04-05T16:51:27.312823Z",
     "end_time": "2023-04-05T16:51:27.628469Z"
    }
   }
  },
  {
   "cell_type": "code",
   "execution_count": null,
   "outputs": [],
   "source": [
    "def train_test_split(features: pd.DataFrame, labels: pd.DataFrame, test_split_ratio: float) -> Tuple[pd.DataFrame, pd.DataFrame, pd.DataFrame, pd.DataFrame]:\n",
    "    test_size = int(len(features) * test_split_ratio)\n",
    "    train_size = len(features) - test_size\n",
    "    assert len(features) == test_size + train_size, \"Size mismatch!\"\n",
    "\n",
    "    x_train,y_train = features.iloc[:train_size,:],labels.iloc[:train_size]\n",
    "    x_test,y_test = features.iloc[train_size:train_size+test_size,:], labels.iloc[train_size:train_size + test_size]\n",
    "    return (x_train,y_train,x_test,y_test)\n"
   ],
   "metadata": {
    "collapsed": false,
    "ExecuteTime": {
     "start_time": "2023-04-05T16:51:27.369210Z",
     "end_time": "2023-04-05T16:51:27.628469Z"
    }
   }
  },
  {
   "cell_type": "code",
   "execution_count": null,
   "outputs": [],
   "source": [],
   "metadata": {
    "collapsed": false,
    "ExecuteTime": {
     "start_time": "2023-04-05T16:51:27.392711Z",
     "end_time": "2023-04-05T16:51:27.628469Z"
    }
   }
  },
  {
   "cell_type": "code",
   "execution_count": null,
   "outputs": [],
   "source": [
    "x_train, y_train, x_test, y_test = train_test_split(x, y, 0.2)"
   ],
   "metadata": {
    "collapsed": false,
    "ExecuteTime": {
     "start_time": "2023-04-05T16:51:27.416630Z",
     "end_time": "2023-04-05T16:51:27.628469Z"
    }
   }
  },
  {
   "cell_type": "code",
   "execution_count": null,
   "outputs": [],
   "source": [
    "x_train.shape, y_train.shape, x_test.shape, y_test.shape"
   ],
   "metadata": {
    "collapsed": false,
    "ExecuteTime": {
     "start_time": "2023-04-05T16:51:27.444709Z",
     "end_time": "2023-04-05T16:51:27.628469Z"
    }
   }
  },
  {
   "cell_type": "code",
   "execution_count": null,
   "outputs": [],
   "source": [
    "def euclidean(points: pd.DataFrame,element_of_x: pd.DataFrame) ->  pd.DataFrame:\n",
    "    return ((points - element_of_x)**2).sum(axis=1)**0.5"
   ],
   "metadata": {
    "collapsed": false,
    "ExecuteTime": {
     "start_time": "2023-04-05T16:51:27.468628Z",
     "end_time": "2023-04-05T16:51:27.628469Z"
    }
   }
  },
  {
   "cell_type": "code",
   "execution_count": null,
   "outputs": [],
   "source": [
    " for index, row in x_test.iterrows():\n",
    "    distances = euclidean(x_train,row)\n",
    "    print(distances)"
   ],
   "metadata": {
    "collapsed": false,
    "ExecuteTime": {
     "start_time": "2023-04-05T16:51:27.496628Z",
     "end_time": "2023-04-05T16:51:27.822040Z"
    }
   }
  },
  {
   "cell_type": "code",
   "execution_count": null,
   "outputs": [],
   "source": [
    "def predict(x_train: pd.DataFrame,y_train: pd.DataFrame,x_test: pd.DataFrame,k:int) -> pd.DataFrame:\n",
    "    labels_pred = []\n",
    "    for index, row in x_test.iterrows():\n",
    "        distances = euclidean(x_train,row)\n",
    "        distances = pd.DataFrame(sorted(zip(distances,y_train)))\n",
    "        label_pred = distances.iloc[:k,1].mode()\n",
    "        labels_pred.append(label_pred)\n",
    "    return pd.DataFrame(labels_pred).iloc[:,0]"
   ],
   "metadata": {
    "collapsed": false,
    "ExecuteTime": {
     "start_time": "2023-04-05T16:51:27.596395Z",
     "end_time": "2023-04-05T16:51:27.822974Z"
    }
   }
  },
  {
   "cell_type": "code",
   "execution_count": null,
   "outputs": [],
   "source": [
    "y_preds = predict(x_train, y_train, x_test, 3)\n",
    "y_preds"
   ],
   "metadata": {
    "collapsed": false,
    "ExecuteTime": {
     "start_time": "2023-04-05T16:51:27.612395Z",
     "end_time": "2023-04-05T16:51:27.960019Z"
    }
   }
  },
  {
   "cell_type": "code",
   "execution_count": null,
   "outputs": [],
   "source": [
    "def accuracy(y_test:pd.DataFrame,y_preds:pd.DataFrame) -> float:\n",
    "    true_positive = (y_test.reset_index(drop=True) == y_preds.reset_index(drop=True)).sum()\n",
    "    return true_positive / len(y_test) * 100"
   ],
   "metadata": {
    "collapsed": false,
    "ExecuteTime": {
     "start_time": "2023-04-05T16:51:27.696406Z",
     "end_time": "2023-04-05T16:51:27.960019Z"
    }
   }
  },
  {
   "cell_type": "code",
   "execution_count": null,
   "outputs": [],
   "source": [
    "accuracy(y_test, y_preds)"
   ],
   "metadata": {
    "collapsed": false,
    "ExecuteTime": {
     "start_time": "2023-04-05T16:51:27.716472Z",
     "end_time": "2023-04-05T16:51:27.960974Z"
    }
   }
  },
  {
   "cell_type": "code",
   "execution_count": null,
   "outputs": [],
   "source": [
    "def confusion_matrix(y_test:pd.DataFrame,y_preds:pd.DataFrame) -> pd.DataFrame:\n",
    "    conf_matrix = confusion_matrix(y_test,y_preds)\n",
    "    return conf_matrix"
   ],
   "metadata": {
    "collapsed": false,
    "ExecuteTime": {
     "start_time": "2023-04-05T16:51:27.753981Z",
     "end_time": "2023-04-05T16:51:27.960974Z"
    }
   }
  },
  {
   "cell_type": "code",
   "execution_count": null,
   "outputs": [],
   "source": [
    "confusion_matrix(y_test, y_preds)"
   ],
   "metadata": {
    "collapsed": false,
    "pycharm": {
     "is_executing": true
    }
   }
  },
  {
   "cell_type": "code",
   "execution_count": null,
   "outputs": [],
   "source": [
    "def best_k(x_test: pd.DataFrame, k, y_test: pd.DataFrame, y_preds: pd.DataFrame, x_train: pd.DataFrame) -> Tuple[int, float]:\n",
    "    best_k = 0\n",
    "    best_accuracy = 0.0\n",
    "    original_k = k\n",
    "    for i in range(20):\n",
    "        k = i+1\n",
    "        predict(x_train, x_test)\n",
    "        current_accuracy = accuracy(y_test, y_preds)\n",
    "        if (best_accuracy < current_accuracy):\n",
    "            best_k = i+1\n",
    "            best_accuracy = current_accuracy\n",
    "\n",
    "    k = original_k\n",
    "    return best_k, round(best_accuracy, 2)"
   ],
   "metadata": {
    "collapsed": false,
    "pycharm": {
     "is_executing": true
    }
   }
  },
  {
   "cell_type": "code",
   "execution_count": null,
   "outputs": [],
   "source": [
    "best = best_k(x_test, 1, y_test, y_preds, x_train)"
   ],
   "metadata": {
    "collapsed": false,
    "pycharm": {
     "is_executing": true
    }
   }
  },
  {
   "cell_type": "code",
   "execution_count": null,
   "outputs": [],
   "source": [],
   "metadata": {
    "collapsed": false,
    "pycharm": {
     "is_executing": true
    }
   }
  }
 ],
 "metadata": {
  "kernelspec": {
   "display_name": "Python 3",
   "language": "python",
   "name": "python3"
  },
  "language_info": {
   "codemirror_mode": {
    "name": "ipython",
    "version": 2
   },
   "file_extension": ".py",
   "mimetype": "text/x-python",
   "name": "python",
   "nbconvert_exporter": "python",
   "pygments_lexer": "ipython2",
   "version": "2.7.6"
  }
 },
 "nbformat": 4,
 "nbformat_minor": 0
}
