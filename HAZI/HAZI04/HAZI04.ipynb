{
 "cells": [
  {
   "cell_type": "code",
   "execution_count": null,
   "metadata": {
    "id": "d7Hf9NL831K3"
   },
   "outputs": [],
   "source": [
    "import pandas as pd\n",
    "import matplotlib.pyplot as plt\n",
    "import numpy as np\n",
    "from typing import Tuple, List\n",
    "from itertools import chain"
   ]
  },
  {
   "cell_type": "code",
   "execution_count": null,
   "metadata": {
    "id": "UynsVM6Q31K4"
   },
   "outputs": [],
   "source": [
    "'''\n",
    "FONTOS: Az első feladatáltal visszaadott DataFrame-et kell használni a további feladatokhoz. \n",
    "A függvényeken belül mindig készíts egy másolatot a bemenő df-ről, (new_df = df.copy() és ezzel dolgozz tovább.)\n",
    "'''"
   ]
  },
  {
   "cell_type": "code",
   "execution_count": null,
   "metadata": {
    "id": "IIkoe5X731K9"
   },
   "outputs": [],
   "source": [
    "'''\n",
    "1., Készíts egy függvényt, ami egy string útvonalat vár paraméterként, és egy DataFrame ad visszatérési értékként.\n",
    "\n",
    "Egy példa a bemenetre: 'test_data.csv'\n",
    "Egy példa a kimenetre: df_data\n",
    "return type: pandas.core.frame.DataFrame\n",
    "függvény neve: csv_to_df\n",
    "'''"
   ]
  },
  {
   "cell_type": "code",
   "execution_count": null,
   "metadata": {
    "id": "KLoGdfW731K9"
   },
   "outputs": [],
   "source": [
    "def csv_to_df(path_to_csv: str) -> pd.DataFrame:\n",
    "    return pd.read_csv(path_to_csv)"
   ]
  },
  {
   "cell_type": "code",
   "execution_count": null,
   "metadata": {},
   "outputs": [],
   "source": [
    "test_df: pd.DataFrame = csv_to_df('StudentsPerformance.csv')\n",
    "test_df.head()"
   ]
  },
  {
   "cell_type": "code",
   "execution_count": null,
   "metadata": {
    "id": "cGgSuadM31K-"
   },
   "outputs": [],
   "source": [
    "'''\n",
    "2., Készíts egy függvényt, ami egy DataFrame-et vár paraméterként,\n",
    "és átalakítja azoknak az oszlopoknak a nevét nagybetűsre amelyiknek neve nem tartalmaz 'e' betüt.\n",
    "\n",
    "Egy példa a bemenetre: df_data\n",
    "Egy példa a kimenetre: df_data_capitalized\n",
    "return type: pandas.core.frame.DataFrame\n",
    "függvény neve: capitalize_columns\n",
    "'''"
   ]
  },
  {
   "cell_type": "code",
   "execution_count": null,
   "metadata": {
    "id": "cmfy9XCN31K-"
   },
   "outputs": [],
   "source": [
    "def capitalize_columns(input_df: pd.DataFrame) -> pd.DataFrame:\n",
    "    result_df: pd.DataFrame = input_df.copy()\n",
    "    result_df.columns= [column if 'e' in column else column.upper() for column in result_df.columns]\n",
    "    return result_df"
   ]
  },
  {
   "cell_type": "code",
   "execution_count": null,
   "metadata": {},
   "outputs": [],
   "source": [
    "print(capitalize_columns(test_df).columns)"
   ]
  },
  {
   "cell_type": "code",
   "execution_count": null,
   "metadata": {
    "id": "3uiKrsVs31K-"
   },
   "outputs": [],
   "source": [
    "'''\n",
    "3., Készíts egy függvényt, ahol egy szám formájában vissza adjuk, hogy hány darab diáknak sikerült teljesíteni a matek vizsgát.\n",
    "(legyen az átmenő ponthatár 50).\n",
    "\n",
    "Egy példa a bemenetre: df_data\n",
    "Egy példa a kimenetre: 5\n",
    "return type: int\n",
    "függvény neve: math_passed_count\n",
    "'''"
   ]
  },
  {
   "cell_type": "code",
   "execution_count": null,
   "metadata": {
    "id": "IOtMs_AY31K-"
   },
   "outputs": [],
   "source": [
    "def math_passed_count(input_df: pd.DataFrame) -> int:\n",
    "    df: pd.DataFrame = input_df.copy()\n",
    "    result: int = sum(df['math score'] > 50)\n",
    "    return result"
   ]
  },
  {
   "cell_type": "code",
   "execution_count": null,
   "metadata": {},
   "outputs": [],
   "source": [
    "print(math_passed_count(test_df))"
   ]
  },
  {
   "cell_type": "code",
   "execution_count": null,
   "metadata": {
    "id": "WoVgi-hB31K_"
   },
   "outputs": [],
   "source": [
    "'''\n",
    "4., Készíts egy függvényt, ahol Dataframe ként vissza adjuk azoknak a diákoknak az adatait (sorokat), akik végeztek előzetes gyakorló kurzust.\n",
    "\n",
    "Egy példa a bemenetre: df_data\n",
    "Egy példa a kimenetre: df_did_pre_course\n",
    "return type: pandas.core.frame.DataFrame\n",
    "függvény neve: did_pre_course\n",
    "'''"
   ]
  },
  {
   "cell_type": "code",
   "execution_count": null,
   "metadata": {
    "id": "aGQ9EbZd31K_"
   },
   "outputs": [],
   "source": [
    "def did_pre_course(input_df: pd.DataFrame) -> pd.DataFrame:\n",
    "    df: pd.DataFrame = input_df.copy()\n",
    "    return df[df['test preparation course'] == \"completed\"]"
   ]
  },
  {
   "cell_type": "code",
   "execution_count": null,
   "metadata": {},
   "outputs": [],
   "source": [
    "print(did_pre_course(test_df).head())"
   ]
  },
  {
   "cell_type": "code",
   "execution_count": null,
   "metadata": {
    "id": "sKZUSthm31K_"
   },
   "outputs": [],
   "source": [
    "'''\n",
    "5., Készíts egy függvényt, ahol a bemeneti Dataframet a diákok szülei végzettségi szintjei alapján csoportosításra kerül,\n",
    "majd aggregációként vegyük, hogy átlagosan milyen pontszámot értek el a diákok a vizsgákon.\n",
    "\n",
    "Egy példa a bemenetre: df_data\n",
    "Egy példa a kimenetre: df_average_scores\n",
    "return type: pandas.core.frame.DataFrame\n",
    "függvény neve: average_scores\n",
    "'''"
   ]
  },
  {
   "cell_type": "code",
   "execution_count": null,
   "metadata": {
    "id": "pxgg4-H-31K_"
   },
   "outputs": [],
   "source": [
    "def average_scores(input_df: pd.DataFrame) -> pd.DataFrame:\n",
    "    df: pd.DataFrame = input_df.copy()\n",
    "    return df.groupby(by='parental level of education').mean()"
   ]
  },
  {
   "cell_type": "code",
   "execution_count": null,
   "metadata": {},
   "outputs": [],
   "source": [
    "average_scores(test_df)"
   ]
  },
  {
   "cell_type": "code",
   "execution_count": null,
   "metadata": {
    "id": "1Dx4ndG-31K_"
   },
   "outputs": [],
   "source": [
    "'''\n",
    "6., Készíts egy függvényt, ami a bementeti Dataframet kiegészíti egy 'age' oszloppal, töltsük fel random 18-66 év közötti értékekkel.\n",
    "A random.randint() függvényt használd, a random sorsolás legyen seedleve, ennek értéke legyen 42.\n",
    "\n",
    "Egy példa a bemenetre: df_data\n",
    "Egy példa a kimenetre: df_data_with_age\n",
    "return type: pandas.core.frame.DataFrame\n",
    "függvény neve: add_age\n",
    "'''"
   ]
  },
  {
   "cell_type": "code",
   "execution_count": null,
   "metadata": {
    "id": "usWc0-VQ31LA"
   },
   "outputs": [],
   "source": [
    "def add_age(input_df: pd.DataFrame) -> pd.DataFrame:\n",
    "    df: pd.DataFrame = input_df.copy()\n",
    "    random_seed:int = 42\n",
    "    np.random.seed(random_seed)\n",
    "    df['age'] = np.random.randint(18,67, size=len(df))\n",
    "    return df"
   ]
  },
  {
   "cell_type": "code",
   "execution_count": null,
   "metadata": {},
   "outputs": [],
   "source": [
    "add_age(test_df).head()"
   ]
  },
  {
   "cell_type": "code",
   "execution_count": null,
   "metadata": {
    "id": "PnvD6Opm31LA"
   },
   "outputs": [],
   "source": [
    "'''\n",
    "7., Készíts egy függvényt, ami vissza adja a legjobb teljesítményt elérő női diák pontszámait.\n",
    "\n",
    "Egy példa a bemenetre: df_data\n",
    "Egy példa a kimenetre: (99,99,99) #math score, reading score, writing score\n",
    "return type: tuple\n",
    "függvény neve: female_top_score\n",
    "'''"
   ]
  },
  {
   "cell_type": "code",
   "execution_count": null,
   "metadata": {
    "id": "UXxvUNXL31LA"
   },
   "outputs": [],
   "source": [
    "def female_top_score(input_df: pd.DataFrame) -> Tuple:\n",
    "    df: pd.DataFrame = input_df.copy()\n",
    "    columns_to_use: List = ['math score', 'reading score', 'writing score']\n",
    "    df['total score'] = df[columns_to_use].sum(axis=1)\n",
    "    res: pd.DataFrame = df[df['gender'] == 'female'].nlargest(1, 'total score', keep='first')\n",
    "    tuple_to_return: Tuple = tuple(chain.from_iterable(res[columns_to_use].values))\n",
    "    return tuple_to_return"
   ]
  },
  {
   "cell_type": "code",
   "execution_count": null,
   "metadata": {},
   "outputs": [],
   "source": [
    "female_top_score(test_df)"
   ]
  },
  {
   "cell_type": "code",
   "execution_count": null,
   "metadata": {
    "id": "yIoeCtGf31LA"
   },
   "outputs": [],
   "source": [
    "'''\n",
    "8., Készíts egy függvényt, ami a bementeti Dataframet kiegészíti egy 'grade' oszloppal.\n",
    "Számoljuk ki hogy a diákok hány százalékot ((math+reading+writing)/300) értek el a vizsgán, és osztályozzuk őket az alábbi szempontok szerint:\n",
    "\n",
    "90-100%: A\n",
    "80-90%: B\n",
    "70-80%: C\n",
    "60-70%: D\n",
    "<60%: F\n",
    "\n",
    "Egy példa a bemenetre: df_data\n",
    "Egy példa a kimenetre: df_data_with_grade\n",
    "return type: pandas.core.frame.DataFrame\n",
    "függvény neve: add_grade\n",
    "'''"
   ]
  },
  {
   "cell_type": "code",
   "execution_count": null,
   "metadata": {
    "id": "82n1p7Pp31LA"
   },
   "outputs": [],
   "source": [
    "def add_grade(input_df: pd.DataFrame) -> pd.DataFrame:\n",
    "    df: pd.DataFrame = input_df.copy()\n",
    "    columns_to_use: List = ['math score', 'reading score', 'writing score']\n",
    "    df['grade'] = df[columns_to_use].sum(axis=1) / 3\n",
    "    df['grade'] = df['grade'].mask(df['grade'] < 100 , 'A')\\\n",
    "                            .mask(df['grade'] < 90 , 'B')\\\n",
    "                            .mask(df['grade'] < 80 , 'C')\\\n",
    "                            .mask(df['grade'] < 70 , 'D')\\\n",
    "                            .mask(df['grade'] < 60 , 'F')\n",
    "    return df"
   ]
  },
  {
   "cell_type": "code",
   "execution_count": null,
   "metadata": {},
   "outputs": [],
   "source": [
    "add_grade(test_df).head()"
   ]
  },
  {
   "cell_type": "code",
   "execution_count": null,
   "metadata": {
    "id": "BgEsyXiE31LA"
   },
   "outputs": [],
   "source": [
    "'''\n",
    "9., Készíts egy függvényt, ami a bemeneti Dataframe adatai alapján elkészít egy olyan oszlop diagrammot,\n",
    "ami vizualizálja a nemek által elért átlagos matek pontszámot.\n",
    "\n",
    "Oszlopdiagram címe legyen: 'Average Math Score by Gender'\n",
    "Az x tengely címe legyen: 'Gender'\n",
    "Az y tengely címe legyen: 'Math Score'\n",
    "\n",
    "Egy példa a bemenetre: df_data\n",
    "Egy példa a kimenetre: fig\n",
    "return type: matplotlib.figure.Figure\n",
    "függvény neve: math_bar_plot\n",
    "'''"
   ]
  },
  {
   "cell_type": "code",
   "execution_count": null,
   "metadata": {
    "id": "uqRXj8Mk31LA"
   },
   "outputs": [],
   "source": [
    "def math_bar_plot(input_data: pd.DataFrame) -> plt.Figure:\n",
    "    df: pd.DataFrame = input_data.copy()\n",
    "    columns_to_use: List = ['gender','math score']\n",
    "    fig, ax = plt.subplots()\n",
    "    df[columns_to_use].groupby(by=columns_to_use[0]).mean().plot(kind='bar',\n",
    "                                                                 ax=ax,\n",
    "                                                                 title='Average Math Score by Gender',\n",
    "                                                                 xlabel = 'Gender',\n",
    "                                                                 ylabel = 'Math Score',\n",
    "                                                                 legend = False)\n",
    "    return fig"
   ]
  },
  {
   "cell_type": "code",
   "execution_count": null,
   "metadata": {},
   "outputs": [],
   "source": [
    "math_bar_plot(test_df);"
   ]
  },
  {
   "cell_type": "code",
   "execution_count": null,
   "metadata": {
    "id": "DK97N1SM31LB"
   },
   "outputs": [],
   "source": [
    "''' \n",
    "10., Készíts egy függvényt, ami a bemeneti Dataframe adatai alapján elkészít egy olyan histogramot,\n",
    "ami vizualizálja az elért írásbeli pontszámokat.\n",
    "\n",
    "A histogram címe legyen: 'Distribution of Writing Scores'\n",
    "Az x tengely címe legyen: 'Writing Score'\n",
    "Az y tengely címe legyen: 'Number of Students'\n",
    "\n",
    "Egy példa a bemenetre: df_data\n",
    "Egy példa a kimenetre: fig\n",
    "return type: matplotlib.figure.Figure\n",
    "függvény neve: writing_hist\n",
    "'''"
   ]
  },
  {
   "cell_type": "code",
   "execution_count": null,
   "metadata": {
    "id": "8JrfgbBj31LB"
   },
   "outputs": [],
   "source": [
    "def writing_hist(input_data: pd.DataFrame) -> plt.Figure:\n",
    "    df: pd.DataFrame = input_data.copy()\n",
    "    columns_to_use: List = ['writing score']\n",
    "    fig, ax = plt.subplots()\n",
    "    ax.set_title('Distribution of Writing Scores')\n",
    "    ax.set_xlabel('Writing Score')\n",
    "    ax.set_ylabel('Number of Students')\n",
    "    ax.hist(df[columns_to_use])\n",
    "\n",
    "    return fig"
   ]
  },
  {
   "cell_type": "code",
   "execution_count": null,
   "metadata": {},
   "outputs": [],
   "source": [
    "writing_hist(test_df);"
   ]
  },
  {
   "cell_type": "code",
   "execution_count": null,
   "metadata": {
    "id": "VIkgpJV-31LB"
   },
   "outputs": [],
   "source": [
    "''' \n",
    "11., Készíts egy függvényt, ami a bemeneti Dataframe adatai alapján elkészít egy olyan kördiagramot,\n",
    "ami vizualizálja a diákok etnikum csoportok szerinti eloszlását százalékosan.\n",
    "\n",
    "Érdemes megszámolni a diákok számát, etnikum csoportonként,majd a százalékos kirajzolást az autopct='%1.1f%%' paraméterrel megadható.\n",
    "Mindegyik kör szelethez tartozzon egy címke, ami a csoport nevét tartalmazza.\n",
    "A diagram címe legyen: 'Proportion of Students by Race/Ethnicity'\n",
    "\n",
    "Egy példa a bemenetre: df_data\n",
    "Egy példa a kimenetre: fig\n",
    "return type: matplotlib.figure.Figure\n",
    "függvény neve: ethnicity_pie_chart\n",
    "'''"
   ]
  },
  {
   "cell_type": "code",
   "execution_count": null,
   "metadata": {
    "id": "xbSad41g31LB"
   },
   "outputs": [],
   "source": [
    "def ethnicity_pie_chart(input_data: pd.DataFrame) -> plt.Figure:\n",
    "    df: pd.DataFrame = input_data.copy()\n",
    "    df['counter'] = 1\n",
    "    columns_to_use: List = ['race/ethnicity', 'counter']\n",
    "    df_to_use: pd.DataFrame = df[columns_to_use].groupby(by=columns_to_use[0]).sum().reset_index()\n",
    "    fig, ax = plt.subplots()\n",
    "    ax.pie(df_to_use[columns_to_use[1]],labels= df_to_use[columns_to_use[0]], autopct='%1.1f%%')\n",
    "    ax.set_title('Proportion of Students by Race/Ethnicity')\n",
    "\n",
    "\n",
    "    return fig"
   ]
  },
  {
   "cell_type": "code",
   "execution_count": null,
   "metadata": {},
   "outputs": [],
   "source": [
    "ethnicity_pie_chart(test_df);"
   ]
  },
  {
   "cell_type": "code",
   "execution_count": null,
   "outputs": [],
   "source": [],
   "metadata": {
    "collapsed": false
   }
  }
 ],
 "metadata": {
  "colab": {
   "provenance": []
  },
  "kernelspec": {
   "display_name": "Python 3 (ipykernel)",
   "language": "python",
   "name": "python3"
  },
  "language_info": {
   "codemirror_mode": {
    "name": "ipython",
    "version": 3
   },
   "file_extension": ".py",
   "mimetype": "text/x-python",
   "name": "python",
   "nbconvert_exporter": "python",
   "pygments_lexer": "ipython3",
   "version": "3.9.13"
  },
  "vscode": {
   "interpreter": {
    "hash": "2e8107a483a1a2a799886d935070cc2750fd8aafb5e2e9ab37a8c6293ca6136f"
   }
  }
 },
 "nbformat": 4,
 "nbformat_minor": 1
}
