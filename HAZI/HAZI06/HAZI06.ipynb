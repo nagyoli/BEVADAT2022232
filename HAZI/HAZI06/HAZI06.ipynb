{
 "cells": [
  {
   "cell_type": "code",
   "execution_count": 1,
   "metadata": {
    "collapsed": true,
    "ExecuteTime": {
     "start_time": "2023-04-14T11:04:23.948537Z",
     "end_time": "2023-04-14T11:04:24.924601Z"
    }
   },
   "outputs": [],
   "source": [
    "import datetime\n",
    "\n",
    "import numpy as np\n",
    "import pandas as pd\n",
    "import matplotlib.pyplot as plt\n",
    "import os.path\n",
    "from typing import List, Tuple\n",
    "from sklearn.model_selection import train_test_split\n",
    "from sklearn.metrics import accuracy_score\n",
    "\n",
    "\n",
    "from NJCleaner import NJCleaner\n",
    "from DecisionTreeClassifier import DecisionTreeClassifier"
   ]
  },
  {
   "cell_type": "code",
   "execution_count": 2,
   "outputs": [
    {
     "data": {
      "text/plain": "(256508, 13)"
     },
     "execution_count": 2,
     "metadata": {},
     "output_type": "execute_result"
    }
   ],
   "source": [
    "work_data = pd.read_csv(\"data/2018_03.csv\", header=0)\n",
    "work_data.shape"
   ],
   "metadata": {
    "collapsed": false,
    "ExecuteTime": {
     "start_time": "2023-04-14T11:04:24.924601Z",
     "end_time": "2023-04-14T11:04:25.224900Z"
    }
   }
  },
  {
   "cell_type": "code",
   "execution_count": 3,
   "outputs": [
    {
     "data": {
      "text/plain": "          date train_id  stop_sequence                   from  from_id   \n0   2018-03-01     3805            1.0  New York Penn Station      105  \\\n1   2018-03-01     3805            2.0  New York Penn Station      105   \n2   2018-03-01     3805            3.0     Secaucus Upper Lvl    38187   \n3   2018-03-01     3805            4.0    Newark Penn Station      107   \n4   2018-03-01     3805            5.0         Newark Airport    37953   \n5   2018-03-01     3805            6.0        North Elizabeth      109   \n6   2018-03-01     3805            7.0              Elizabeth       41   \n7   2018-03-01     3805            8.0                 Linden       70   \n8   2018-03-01     3805            9.0                 Rahway      127   \n9   2018-03-01     3805           10.0              Metropark       83   \n10  2018-03-01     3805           11.0               Metuchen       84   \n11  2018-03-01     3805           12.0                 Edison       38   \n12  2018-03-01     3805           13.0          New Brunswick      103   \n13  2018-03-01     3805           14.0          Jersey Avenue    32906   \n14  2018-03-01     3805           15.0     Princeton Junction      125   \n15  2018-03-01     3805           16.0               Hamilton    32905   \n16  2018-03-01     2312            1.0               Bay Head       13   \n17  2018-03-01     2312            2.0               Bay Head       13   \n18  2018-03-01     2312            3.0   Point Pleasant Beach      122   \n19  2018-03-01     2312            4.0              Manasquan       79   \n\n                       to  to_id       scheduled_time          actual_time   \n0   New York Penn Station    105  2018-03-02 01:22:00  2018-03-02 01:21:05  \\\n1      Secaucus Upper Lvl  38187  2018-03-02 01:31:00  2018-03-02 01:31:08   \n2     Newark Penn Station    107  2018-03-02 01:40:00  2018-03-02 01:40:07   \n3          Newark Airport  37953  2018-03-02 01:45:00  2018-03-02 01:45:10   \n4         North Elizabeth    109  2018-03-02 01:49:00  2018-03-02 01:49:10   \n5               Elizabeth     41  2018-03-02 01:52:00  2018-03-02 01:52:01   \n6                  Linden     70  2018-03-02 01:58:00  2018-03-02 01:58:05   \n7                  Rahway    127  2018-03-02 02:02:00  2018-03-02 02:01:03   \n8               Metropark     83  2018-03-02 02:08:00  2018-03-02 02:08:00   \n9                Metuchen     84  2018-03-02 02:13:00  2018-03-02 02:13:10   \n10                 Edison     38  2018-03-02 02:18:00  2018-03-02 02:18:09   \n11          New Brunswick    103  2018-03-02 02:23:00  2018-03-02 02:23:09   \n12          Jersey Avenue  32906  2018-03-02 02:28:00  2018-03-02 02:28:08   \n13     Princeton Junction    125  2018-03-02 02:42:00  2018-03-02 02:33:08   \n14               Hamilton  32905  2018-03-02 02:49:00  2018-03-02 02:39:03   \n15                Trenton    148  2018-03-02 03:06:00  2018-03-02 02:42:00   \n16               Bay Head     13  2018-03-01 14:05:00  2018-03-01 14:06:03   \n17   Point Pleasant Beach    122  2018-03-01 14:09:00  2018-03-01 14:12:03   \n18              Manasquan     79  2018-03-01 14:14:00  2018-03-01 14:17:10   \n19            Spring Lake    141  2018-03-01 14:18:00  2018-03-01 14:21:02   \n\n    delay_minutes     status              line        type  \n0        0.000000   departed  Northeast Corrdr  NJ Transit  \n1        0.133333   departed  Northeast Corrdr  NJ Transit  \n2        0.116667   departed  Northeast Corrdr  NJ Transit  \n3        0.166667   departed  Northeast Corrdr  NJ Transit  \n4        0.166667   departed  Northeast Corrdr  NJ Transit  \n5        0.016667   departed  Northeast Corrdr  NJ Transit  \n6        0.083333   departed  Northeast Corrdr  NJ Transit  \n7        0.000000   departed  Northeast Corrdr  NJ Transit  \n8        0.000000   departed  Northeast Corrdr  NJ Transit  \n9        0.166667   departed  Northeast Corrdr  NJ Transit  \n10       0.150000   departed  Northeast Corrdr  NJ Transit  \n11       0.150000   departed  Northeast Corrdr  NJ Transit  \n12       0.133333   departed  Northeast Corrdr  NJ Transit  \n13       0.000000   departed  Northeast Corrdr  NJ Transit  \n14       0.000000   departed  Northeast Corrdr  NJ Transit  \n15       0.000000  estimated  Northeast Corrdr  NJ Transit  \n16       1.050000   departed   No Jersey Coast  NJ Transit  \n17       3.050000   departed   No Jersey Coast  NJ Transit  \n18       3.166667   departed   No Jersey Coast  NJ Transit  \n19       3.033333   departed   No Jersey Coast  NJ Transit  ",
      "text/html": "<div>\n<style scoped>\n    .dataframe tbody tr th:only-of-type {\n        vertical-align: middle;\n    }\n\n    .dataframe tbody tr th {\n        vertical-align: top;\n    }\n\n    .dataframe thead th {\n        text-align: right;\n    }\n</style>\n<table border=\"1\" class=\"dataframe\">\n  <thead>\n    <tr style=\"text-align: right;\">\n      <th></th>\n      <th>date</th>\n      <th>train_id</th>\n      <th>stop_sequence</th>\n      <th>from</th>\n      <th>from_id</th>\n      <th>to</th>\n      <th>to_id</th>\n      <th>scheduled_time</th>\n      <th>actual_time</th>\n      <th>delay_minutes</th>\n      <th>status</th>\n      <th>line</th>\n      <th>type</th>\n    </tr>\n  </thead>\n  <tbody>\n    <tr>\n      <th>0</th>\n      <td>2018-03-01</td>\n      <td>3805</td>\n      <td>1.0</td>\n      <td>New York Penn Station</td>\n      <td>105</td>\n      <td>New York Penn Station</td>\n      <td>105</td>\n      <td>2018-03-02 01:22:00</td>\n      <td>2018-03-02 01:21:05</td>\n      <td>0.000000</td>\n      <td>departed</td>\n      <td>Northeast Corrdr</td>\n      <td>NJ Transit</td>\n    </tr>\n    <tr>\n      <th>1</th>\n      <td>2018-03-01</td>\n      <td>3805</td>\n      <td>2.0</td>\n      <td>New York Penn Station</td>\n      <td>105</td>\n      <td>Secaucus Upper Lvl</td>\n      <td>38187</td>\n      <td>2018-03-02 01:31:00</td>\n      <td>2018-03-02 01:31:08</td>\n      <td>0.133333</td>\n      <td>departed</td>\n      <td>Northeast Corrdr</td>\n      <td>NJ Transit</td>\n    </tr>\n    <tr>\n      <th>2</th>\n      <td>2018-03-01</td>\n      <td>3805</td>\n      <td>3.0</td>\n      <td>Secaucus Upper Lvl</td>\n      <td>38187</td>\n      <td>Newark Penn Station</td>\n      <td>107</td>\n      <td>2018-03-02 01:40:00</td>\n      <td>2018-03-02 01:40:07</td>\n      <td>0.116667</td>\n      <td>departed</td>\n      <td>Northeast Corrdr</td>\n      <td>NJ Transit</td>\n    </tr>\n    <tr>\n      <th>3</th>\n      <td>2018-03-01</td>\n      <td>3805</td>\n      <td>4.0</td>\n      <td>Newark Penn Station</td>\n      <td>107</td>\n      <td>Newark Airport</td>\n      <td>37953</td>\n      <td>2018-03-02 01:45:00</td>\n      <td>2018-03-02 01:45:10</td>\n      <td>0.166667</td>\n      <td>departed</td>\n      <td>Northeast Corrdr</td>\n      <td>NJ Transit</td>\n    </tr>\n    <tr>\n      <th>4</th>\n      <td>2018-03-01</td>\n      <td>3805</td>\n      <td>5.0</td>\n      <td>Newark Airport</td>\n      <td>37953</td>\n      <td>North Elizabeth</td>\n      <td>109</td>\n      <td>2018-03-02 01:49:00</td>\n      <td>2018-03-02 01:49:10</td>\n      <td>0.166667</td>\n      <td>departed</td>\n      <td>Northeast Corrdr</td>\n      <td>NJ Transit</td>\n    </tr>\n    <tr>\n      <th>5</th>\n      <td>2018-03-01</td>\n      <td>3805</td>\n      <td>6.0</td>\n      <td>North Elizabeth</td>\n      <td>109</td>\n      <td>Elizabeth</td>\n      <td>41</td>\n      <td>2018-03-02 01:52:00</td>\n      <td>2018-03-02 01:52:01</td>\n      <td>0.016667</td>\n      <td>departed</td>\n      <td>Northeast Corrdr</td>\n      <td>NJ Transit</td>\n    </tr>\n    <tr>\n      <th>6</th>\n      <td>2018-03-01</td>\n      <td>3805</td>\n      <td>7.0</td>\n      <td>Elizabeth</td>\n      <td>41</td>\n      <td>Linden</td>\n      <td>70</td>\n      <td>2018-03-02 01:58:00</td>\n      <td>2018-03-02 01:58:05</td>\n      <td>0.083333</td>\n      <td>departed</td>\n      <td>Northeast Corrdr</td>\n      <td>NJ Transit</td>\n    </tr>\n    <tr>\n      <th>7</th>\n      <td>2018-03-01</td>\n      <td>3805</td>\n      <td>8.0</td>\n      <td>Linden</td>\n      <td>70</td>\n      <td>Rahway</td>\n      <td>127</td>\n      <td>2018-03-02 02:02:00</td>\n      <td>2018-03-02 02:01:03</td>\n      <td>0.000000</td>\n      <td>departed</td>\n      <td>Northeast Corrdr</td>\n      <td>NJ Transit</td>\n    </tr>\n    <tr>\n      <th>8</th>\n      <td>2018-03-01</td>\n      <td>3805</td>\n      <td>9.0</td>\n      <td>Rahway</td>\n      <td>127</td>\n      <td>Metropark</td>\n      <td>83</td>\n      <td>2018-03-02 02:08:00</td>\n      <td>2018-03-02 02:08:00</td>\n      <td>0.000000</td>\n      <td>departed</td>\n      <td>Northeast Corrdr</td>\n      <td>NJ Transit</td>\n    </tr>\n    <tr>\n      <th>9</th>\n      <td>2018-03-01</td>\n      <td>3805</td>\n      <td>10.0</td>\n      <td>Metropark</td>\n      <td>83</td>\n      <td>Metuchen</td>\n      <td>84</td>\n      <td>2018-03-02 02:13:00</td>\n      <td>2018-03-02 02:13:10</td>\n      <td>0.166667</td>\n      <td>departed</td>\n      <td>Northeast Corrdr</td>\n      <td>NJ Transit</td>\n    </tr>\n    <tr>\n      <th>10</th>\n      <td>2018-03-01</td>\n      <td>3805</td>\n      <td>11.0</td>\n      <td>Metuchen</td>\n      <td>84</td>\n      <td>Edison</td>\n      <td>38</td>\n      <td>2018-03-02 02:18:00</td>\n      <td>2018-03-02 02:18:09</td>\n      <td>0.150000</td>\n      <td>departed</td>\n      <td>Northeast Corrdr</td>\n      <td>NJ Transit</td>\n    </tr>\n    <tr>\n      <th>11</th>\n      <td>2018-03-01</td>\n      <td>3805</td>\n      <td>12.0</td>\n      <td>Edison</td>\n      <td>38</td>\n      <td>New Brunswick</td>\n      <td>103</td>\n      <td>2018-03-02 02:23:00</td>\n      <td>2018-03-02 02:23:09</td>\n      <td>0.150000</td>\n      <td>departed</td>\n      <td>Northeast Corrdr</td>\n      <td>NJ Transit</td>\n    </tr>\n    <tr>\n      <th>12</th>\n      <td>2018-03-01</td>\n      <td>3805</td>\n      <td>13.0</td>\n      <td>New Brunswick</td>\n      <td>103</td>\n      <td>Jersey Avenue</td>\n      <td>32906</td>\n      <td>2018-03-02 02:28:00</td>\n      <td>2018-03-02 02:28:08</td>\n      <td>0.133333</td>\n      <td>departed</td>\n      <td>Northeast Corrdr</td>\n      <td>NJ Transit</td>\n    </tr>\n    <tr>\n      <th>13</th>\n      <td>2018-03-01</td>\n      <td>3805</td>\n      <td>14.0</td>\n      <td>Jersey Avenue</td>\n      <td>32906</td>\n      <td>Princeton Junction</td>\n      <td>125</td>\n      <td>2018-03-02 02:42:00</td>\n      <td>2018-03-02 02:33:08</td>\n      <td>0.000000</td>\n      <td>departed</td>\n      <td>Northeast Corrdr</td>\n      <td>NJ Transit</td>\n    </tr>\n    <tr>\n      <th>14</th>\n      <td>2018-03-01</td>\n      <td>3805</td>\n      <td>15.0</td>\n      <td>Princeton Junction</td>\n      <td>125</td>\n      <td>Hamilton</td>\n      <td>32905</td>\n      <td>2018-03-02 02:49:00</td>\n      <td>2018-03-02 02:39:03</td>\n      <td>0.000000</td>\n      <td>departed</td>\n      <td>Northeast Corrdr</td>\n      <td>NJ Transit</td>\n    </tr>\n    <tr>\n      <th>15</th>\n      <td>2018-03-01</td>\n      <td>3805</td>\n      <td>16.0</td>\n      <td>Hamilton</td>\n      <td>32905</td>\n      <td>Trenton</td>\n      <td>148</td>\n      <td>2018-03-02 03:06:00</td>\n      <td>2018-03-02 02:42:00</td>\n      <td>0.000000</td>\n      <td>estimated</td>\n      <td>Northeast Corrdr</td>\n      <td>NJ Transit</td>\n    </tr>\n    <tr>\n      <th>16</th>\n      <td>2018-03-01</td>\n      <td>2312</td>\n      <td>1.0</td>\n      <td>Bay Head</td>\n      <td>13</td>\n      <td>Bay Head</td>\n      <td>13</td>\n      <td>2018-03-01 14:05:00</td>\n      <td>2018-03-01 14:06:03</td>\n      <td>1.050000</td>\n      <td>departed</td>\n      <td>No Jersey Coast</td>\n      <td>NJ Transit</td>\n    </tr>\n    <tr>\n      <th>17</th>\n      <td>2018-03-01</td>\n      <td>2312</td>\n      <td>2.0</td>\n      <td>Bay Head</td>\n      <td>13</td>\n      <td>Point Pleasant Beach</td>\n      <td>122</td>\n      <td>2018-03-01 14:09:00</td>\n      <td>2018-03-01 14:12:03</td>\n      <td>3.050000</td>\n      <td>departed</td>\n      <td>No Jersey Coast</td>\n      <td>NJ Transit</td>\n    </tr>\n    <tr>\n      <th>18</th>\n      <td>2018-03-01</td>\n      <td>2312</td>\n      <td>3.0</td>\n      <td>Point Pleasant Beach</td>\n      <td>122</td>\n      <td>Manasquan</td>\n      <td>79</td>\n      <td>2018-03-01 14:14:00</td>\n      <td>2018-03-01 14:17:10</td>\n      <td>3.166667</td>\n      <td>departed</td>\n      <td>No Jersey Coast</td>\n      <td>NJ Transit</td>\n    </tr>\n    <tr>\n      <th>19</th>\n      <td>2018-03-01</td>\n      <td>2312</td>\n      <td>4.0</td>\n      <td>Manasquan</td>\n      <td>79</td>\n      <td>Spring Lake</td>\n      <td>141</td>\n      <td>2018-03-01 14:18:00</td>\n      <td>2018-03-01 14:21:02</td>\n      <td>3.033333</td>\n      <td>departed</td>\n      <td>No Jersey Coast</td>\n      <td>NJ Transit</td>\n    </tr>\n  </tbody>\n</table>\n</div>"
     },
     "execution_count": 3,
     "metadata": {},
     "output_type": "execute_result"
    }
   ],
   "source": [
    "work_data.head(20)"
   ],
   "metadata": {
    "collapsed": false,
    "ExecuteTime": {
     "start_time": "2023-04-14T11:04:25.223099Z",
     "end_time": "2023-04-14T11:04:25.236042Z"
    }
   }
  },
  {
   "cell_type": "code",
   "execution_count": 4,
   "outputs": [
    {
     "data": {
      "text/plain": "         date train_id  stop_sequence                   from  from_id   \n0  2018-03-01     3805            1.0  New York Penn Station      105  \\\n1  2018-03-01     3805            2.0  New York Penn Station      105   \n2  2018-03-01     3805            3.0     Secaucus Upper Lvl    38187   \n3  2018-03-01     3805            4.0    Newark Penn Station      107   \n4  2018-03-01     3805            5.0         Newark Airport    37953   \n\n                      to  to_id       scheduled_time          actual_time   \n0  New York Penn Station    105  2018-03-02 01:22:00  2018-03-02 01:21:05  \\\n1     Secaucus Upper Lvl  38187  2018-03-02 01:31:00  2018-03-02 01:31:08   \n2    Newark Penn Station    107  2018-03-02 01:40:00  2018-03-02 01:40:07   \n3         Newark Airport  37953  2018-03-02 01:45:00  2018-03-02 01:45:10   \n4        North Elizabeth    109  2018-03-02 01:49:00  2018-03-02 01:49:10   \n\n   delay_minutes    status              line        type  \n0       0.000000  departed  Northeast Corrdr  NJ Transit  \n1       0.133333  departed  Northeast Corrdr  NJ Transit  \n2       0.116667  departed  Northeast Corrdr  NJ Transit  \n3       0.166667  departed  Northeast Corrdr  NJ Transit  \n4       0.166667  departed  Northeast Corrdr  NJ Transit  ",
      "text/html": "<div>\n<style scoped>\n    .dataframe tbody tr th:only-of-type {\n        vertical-align: middle;\n    }\n\n    .dataframe tbody tr th {\n        vertical-align: top;\n    }\n\n    .dataframe thead th {\n        text-align: right;\n    }\n</style>\n<table border=\"1\" class=\"dataframe\">\n  <thead>\n    <tr style=\"text-align: right;\">\n      <th></th>\n      <th>date</th>\n      <th>train_id</th>\n      <th>stop_sequence</th>\n      <th>from</th>\n      <th>from_id</th>\n      <th>to</th>\n      <th>to_id</th>\n      <th>scheduled_time</th>\n      <th>actual_time</th>\n      <th>delay_minutes</th>\n      <th>status</th>\n      <th>line</th>\n      <th>type</th>\n    </tr>\n  </thead>\n  <tbody>\n    <tr>\n      <th>0</th>\n      <td>2018-03-01</td>\n      <td>3805</td>\n      <td>1.0</td>\n      <td>New York Penn Station</td>\n      <td>105</td>\n      <td>New York Penn Station</td>\n      <td>105</td>\n      <td>2018-03-02 01:22:00</td>\n      <td>2018-03-02 01:21:05</td>\n      <td>0.000000</td>\n      <td>departed</td>\n      <td>Northeast Corrdr</td>\n      <td>NJ Transit</td>\n    </tr>\n    <tr>\n      <th>1</th>\n      <td>2018-03-01</td>\n      <td>3805</td>\n      <td>2.0</td>\n      <td>New York Penn Station</td>\n      <td>105</td>\n      <td>Secaucus Upper Lvl</td>\n      <td>38187</td>\n      <td>2018-03-02 01:31:00</td>\n      <td>2018-03-02 01:31:08</td>\n      <td>0.133333</td>\n      <td>departed</td>\n      <td>Northeast Corrdr</td>\n      <td>NJ Transit</td>\n    </tr>\n    <tr>\n      <th>2</th>\n      <td>2018-03-01</td>\n      <td>3805</td>\n      <td>3.0</td>\n      <td>Secaucus Upper Lvl</td>\n      <td>38187</td>\n      <td>Newark Penn Station</td>\n      <td>107</td>\n      <td>2018-03-02 01:40:00</td>\n      <td>2018-03-02 01:40:07</td>\n      <td>0.116667</td>\n      <td>departed</td>\n      <td>Northeast Corrdr</td>\n      <td>NJ Transit</td>\n    </tr>\n    <tr>\n      <th>3</th>\n      <td>2018-03-01</td>\n      <td>3805</td>\n      <td>4.0</td>\n      <td>Newark Penn Station</td>\n      <td>107</td>\n      <td>Newark Airport</td>\n      <td>37953</td>\n      <td>2018-03-02 01:45:00</td>\n      <td>2018-03-02 01:45:10</td>\n      <td>0.166667</td>\n      <td>departed</td>\n      <td>Northeast Corrdr</td>\n      <td>NJ Transit</td>\n    </tr>\n    <tr>\n      <th>4</th>\n      <td>2018-03-01</td>\n      <td>3805</td>\n      <td>5.0</td>\n      <td>Newark Airport</td>\n      <td>37953</td>\n      <td>North Elizabeth</td>\n      <td>109</td>\n      <td>2018-03-02 01:49:00</td>\n      <td>2018-03-02 01:49:10</td>\n      <td>0.166667</td>\n      <td>departed</td>\n      <td>Northeast Corrdr</td>\n      <td>NJ Transit</td>\n    </tr>\n  </tbody>\n</table>\n</div>"
     },
     "execution_count": 4,
     "metadata": {},
     "output_type": "execute_result"
    }
   ],
   "source": [
    "work_data.sort_values(by = ['scheduled_time'])\n",
    "work_data.head()"
   ],
   "metadata": {
    "collapsed": false,
    "ExecuteTime": {
     "start_time": "2023-04-14T11:04:25.237039Z",
     "end_time": "2023-04-14T11:04:25.499192Z"
    }
   }
  },
  {
   "cell_type": "code",
   "execution_count": 5,
   "outputs": [
    {
     "data": {
      "text/plain": "         date train_id  stop_sequence  from_id  to_id       scheduled_time   \n0  2018-03-01     3805            1.0      105    105  2018-03-02 01:22:00  \\\n1  2018-03-01     3805            2.0      105  38187  2018-03-02 01:31:00   \n2  2018-03-01     3805            3.0    38187    107  2018-03-02 01:40:00   \n3  2018-03-01     3805            4.0      107  37953  2018-03-02 01:45:00   \n4  2018-03-01     3805            5.0    37953    109  2018-03-02 01:49:00   \n\n           actual_time  delay_minutes    status              line        type  \n0  2018-03-02 01:21:05       0.000000  departed  Northeast Corrdr  NJ Transit  \n1  2018-03-02 01:31:08       0.133333  departed  Northeast Corrdr  NJ Transit  \n2  2018-03-02 01:40:07       0.116667  departed  Northeast Corrdr  NJ Transit  \n3  2018-03-02 01:45:10       0.166667  departed  Northeast Corrdr  NJ Transit  \n4  2018-03-02 01:49:10       0.166667  departed  Northeast Corrdr  NJ Transit  ",
      "text/html": "<div>\n<style scoped>\n    .dataframe tbody tr th:only-of-type {\n        vertical-align: middle;\n    }\n\n    .dataframe tbody tr th {\n        vertical-align: top;\n    }\n\n    .dataframe thead th {\n        text-align: right;\n    }\n</style>\n<table border=\"1\" class=\"dataframe\">\n  <thead>\n    <tr style=\"text-align: right;\">\n      <th></th>\n      <th>date</th>\n      <th>train_id</th>\n      <th>stop_sequence</th>\n      <th>from_id</th>\n      <th>to_id</th>\n      <th>scheduled_time</th>\n      <th>actual_time</th>\n      <th>delay_minutes</th>\n      <th>status</th>\n      <th>line</th>\n      <th>type</th>\n    </tr>\n  </thead>\n  <tbody>\n    <tr>\n      <th>0</th>\n      <td>2018-03-01</td>\n      <td>3805</td>\n      <td>1.0</td>\n      <td>105</td>\n      <td>105</td>\n      <td>2018-03-02 01:22:00</td>\n      <td>2018-03-02 01:21:05</td>\n      <td>0.000000</td>\n      <td>departed</td>\n      <td>Northeast Corrdr</td>\n      <td>NJ Transit</td>\n    </tr>\n    <tr>\n      <th>1</th>\n      <td>2018-03-01</td>\n      <td>3805</td>\n      <td>2.0</td>\n      <td>105</td>\n      <td>38187</td>\n      <td>2018-03-02 01:31:00</td>\n      <td>2018-03-02 01:31:08</td>\n      <td>0.133333</td>\n      <td>departed</td>\n      <td>Northeast Corrdr</td>\n      <td>NJ Transit</td>\n    </tr>\n    <tr>\n      <th>2</th>\n      <td>2018-03-01</td>\n      <td>3805</td>\n      <td>3.0</td>\n      <td>38187</td>\n      <td>107</td>\n      <td>2018-03-02 01:40:00</td>\n      <td>2018-03-02 01:40:07</td>\n      <td>0.116667</td>\n      <td>departed</td>\n      <td>Northeast Corrdr</td>\n      <td>NJ Transit</td>\n    </tr>\n    <tr>\n      <th>3</th>\n      <td>2018-03-01</td>\n      <td>3805</td>\n      <td>4.0</td>\n      <td>107</td>\n      <td>37953</td>\n      <td>2018-03-02 01:45:00</td>\n      <td>2018-03-02 01:45:10</td>\n      <td>0.166667</td>\n      <td>departed</td>\n      <td>Northeast Corrdr</td>\n      <td>NJ Transit</td>\n    </tr>\n    <tr>\n      <th>4</th>\n      <td>2018-03-01</td>\n      <td>3805</td>\n      <td>5.0</td>\n      <td>37953</td>\n      <td>109</td>\n      <td>2018-03-02 01:49:00</td>\n      <td>2018-03-02 01:49:10</td>\n      <td>0.166667</td>\n      <td>departed</td>\n      <td>Northeast Corrdr</td>\n      <td>NJ Transit</td>\n    </tr>\n  </tbody>\n</table>\n</div>"
     },
     "execution_count": 5,
     "metadata": {},
     "output_type": "execute_result"
    }
   ],
   "source": [
    "to_drop = ['from', 'to']\n",
    "work_data = work_data.drop(columns=to_drop)\n",
    "work_data = work_data.dropna()\n",
    "work_data.head()"
   ],
   "metadata": {
    "collapsed": false,
    "ExecuteTime": {
     "start_time": "2023-04-14T11:04:25.345709Z",
     "end_time": "2023-04-14T11:04:25.626730Z"
    }
   }
  },
  {
   "cell_type": "code",
   "execution_count": 6,
   "outputs": [
    {
     "data": {
      "text/plain": "(243028, 11)"
     },
     "execution_count": 6,
     "metadata": {},
     "output_type": "execute_result"
    }
   ],
   "source": [
    "work_data.shape"
   ],
   "metadata": {
    "collapsed": false,
    "ExecuteTime": {
     "start_time": "2023-04-14T11:04:25.427324Z",
     "end_time": "2023-04-14T11:04:25.627733Z"
    }
   }
  },
  {
   "cell_type": "code",
   "execution_count": 7,
   "outputs": [],
   "source": [
    "def convert_date_to_day(inputdata: pd.DataFrame) -> pd.DataFrame:\n",
    "    inputdata.date = pd.to_datetime(inputdata.date)\n",
    "    inputdata['day'] = inputdata.date.dt.day_name()\n",
    "    inputdata = inputdata.drop(columns='date')\n",
    "    return inputdata"
   ],
   "metadata": {
    "collapsed": false,
    "ExecuteTime": {
     "start_time": "2023-04-14T11:04:25.439316Z",
     "end_time": "2023-04-14T11:04:25.677558Z"
    }
   }
  },
  {
   "cell_type": "code",
   "execution_count": 8,
   "outputs": [],
   "source": [
    "work_data = convert_date_to_day(work_data)"
   ],
   "metadata": {
    "collapsed": false,
    "ExecuteTime": {
     "start_time": "2023-04-14T11:04:25.453239Z",
     "end_time": "2023-04-14T11:04:25.718428Z"
    }
   }
  },
  {
   "cell_type": "code",
   "execution_count": 9,
   "outputs": [
    {
     "data": {
      "text/plain": "  train_id  stop_sequence  from_id  to_id       scheduled_time   \n0     3805            1.0      105    105  2018-03-02 01:22:00  \\\n1     3805            2.0      105  38187  2018-03-02 01:31:00   \n2     3805            3.0    38187    107  2018-03-02 01:40:00   \n3     3805            4.0      107  37953  2018-03-02 01:45:00   \n4     3805            5.0    37953    109  2018-03-02 01:49:00   \n\n           actual_time  delay_minutes    status              line        type   \n0  2018-03-02 01:21:05       0.000000  departed  Northeast Corrdr  NJ Transit  \\\n1  2018-03-02 01:31:08       0.133333  departed  Northeast Corrdr  NJ Transit   \n2  2018-03-02 01:40:07       0.116667  departed  Northeast Corrdr  NJ Transit   \n3  2018-03-02 01:45:10       0.166667  departed  Northeast Corrdr  NJ Transit   \n4  2018-03-02 01:49:10       0.166667  departed  Northeast Corrdr  NJ Transit   \n\n        day  \n0  Thursday  \n1  Thursday  \n2  Thursday  \n3  Thursday  \n4  Thursday  ",
      "text/html": "<div>\n<style scoped>\n    .dataframe tbody tr th:only-of-type {\n        vertical-align: middle;\n    }\n\n    .dataframe tbody tr th {\n        vertical-align: top;\n    }\n\n    .dataframe thead th {\n        text-align: right;\n    }\n</style>\n<table border=\"1\" class=\"dataframe\">\n  <thead>\n    <tr style=\"text-align: right;\">\n      <th></th>\n      <th>train_id</th>\n      <th>stop_sequence</th>\n      <th>from_id</th>\n      <th>to_id</th>\n      <th>scheduled_time</th>\n      <th>actual_time</th>\n      <th>delay_minutes</th>\n      <th>status</th>\n      <th>line</th>\n      <th>type</th>\n      <th>day</th>\n    </tr>\n  </thead>\n  <tbody>\n    <tr>\n      <th>0</th>\n      <td>3805</td>\n      <td>1.0</td>\n      <td>105</td>\n      <td>105</td>\n      <td>2018-03-02 01:22:00</td>\n      <td>2018-03-02 01:21:05</td>\n      <td>0.000000</td>\n      <td>departed</td>\n      <td>Northeast Corrdr</td>\n      <td>NJ Transit</td>\n      <td>Thursday</td>\n    </tr>\n    <tr>\n      <th>1</th>\n      <td>3805</td>\n      <td>2.0</td>\n      <td>105</td>\n      <td>38187</td>\n      <td>2018-03-02 01:31:00</td>\n      <td>2018-03-02 01:31:08</td>\n      <td>0.133333</td>\n      <td>departed</td>\n      <td>Northeast Corrdr</td>\n      <td>NJ Transit</td>\n      <td>Thursday</td>\n    </tr>\n    <tr>\n      <th>2</th>\n      <td>3805</td>\n      <td>3.0</td>\n      <td>38187</td>\n      <td>107</td>\n      <td>2018-03-02 01:40:00</td>\n      <td>2018-03-02 01:40:07</td>\n      <td>0.116667</td>\n      <td>departed</td>\n      <td>Northeast Corrdr</td>\n      <td>NJ Transit</td>\n      <td>Thursday</td>\n    </tr>\n    <tr>\n      <th>3</th>\n      <td>3805</td>\n      <td>4.0</td>\n      <td>107</td>\n      <td>37953</td>\n      <td>2018-03-02 01:45:00</td>\n      <td>2018-03-02 01:45:10</td>\n      <td>0.166667</td>\n      <td>departed</td>\n      <td>Northeast Corrdr</td>\n      <td>NJ Transit</td>\n      <td>Thursday</td>\n    </tr>\n    <tr>\n      <th>4</th>\n      <td>3805</td>\n      <td>5.0</td>\n      <td>37953</td>\n      <td>109</td>\n      <td>2018-03-02 01:49:00</td>\n      <td>2018-03-02 01:49:10</td>\n      <td>0.166667</td>\n      <td>departed</td>\n      <td>Northeast Corrdr</td>\n      <td>NJ Transit</td>\n      <td>Thursday</td>\n    </tr>\n  </tbody>\n</table>\n</div>"
     },
     "execution_count": 9,
     "metadata": {},
     "output_type": "execute_result"
    }
   ],
   "source": [
    "work_data.head()"
   ],
   "metadata": {
    "collapsed": false,
    "ExecuteTime": {
     "start_time": "2023-04-14T11:04:25.523086Z",
     "end_time": "2023-04-14T11:04:25.772171Z"
    }
   }
  },
  {
   "cell_type": "code",
   "execution_count": 10,
   "outputs": [],
   "source": [
    "work_data['scheduled_time'] = pd.to_datetime(work_data['scheduled_time'])"
   ],
   "metadata": {
    "collapsed": false,
    "ExecuteTime": {
     "start_time": "2023-04-14T11:04:25.534036Z",
     "end_time": "2023-04-14T11:04:25.809055Z"
    }
   }
  },
  {
   "cell_type": "code",
   "execution_count": 11,
   "outputs": [],
   "source": [
    "work_data['time'] = work_data['scheduled_time'].dt.time"
   ],
   "metadata": {
    "collapsed": false,
    "ExecuteTime": {
     "start_time": "2023-04-14T11:04:25.657625Z",
     "end_time": "2023-04-14T11:04:25.867923Z"
    }
   }
  },
  {
   "cell_type": "code",
   "execution_count": 12,
   "outputs": [
    {
     "data": {
      "text/plain": "  train_id  stop_sequence  from_id  to_id      scheduled_time   \n0     3805            1.0      105    105 2018-03-02 01:22:00  \\\n1     3805            2.0      105  38187 2018-03-02 01:31:00   \n2     3805            3.0    38187    107 2018-03-02 01:40:00   \n3     3805            4.0      107  37953 2018-03-02 01:45:00   \n4     3805            5.0    37953    109 2018-03-02 01:49:00   \n\n           actual_time  delay_minutes    status              line        type   \n0  2018-03-02 01:21:05       0.000000  departed  Northeast Corrdr  NJ Transit  \\\n1  2018-03-02 01:31:08       0.133333  departed  Northeast Corrdr  NJ Transit   \n2  2018-03-02 01:40:07       0.116667  departed  Northeast Corrdr  NJ Transit   \n3  2018-03-02 01:45:10       0.166667  departed  Northeast Corrdr  NJ Transit   \n4  2018-03-02 01:49:10       0.166667  departed  Northeast Corrdr  NJ Transit   \n\n        day      time  \n0  Thursday  01:22:00  \n1  Thursday  01:31:00  \n2  Thursday  01:40:00  \n3  Thursday  01:45:00  \n4  Thursday  01:49:00  ",
      "text/html": "<div>\n<style scoped>\n    .dataframe tbody tr th:only-of-type {\n        vertical-align: middle;\n    }\n\n    .dataframe tbody tr th {\n        vertical-align: top;\n    }\n\n    .dataframe thead th {\n        text-align: right;\n    }\n</style>\n<table border=\"1\" class=\"dataframe\">\n  <thead>\n    <tr style=\"text-align: right;\">\n      <th></th>\n      <th>train_id</th>\n      <th>stop_sequence</th>\n      <th>from_id</th>\n      <th>to_id</th>\n      <th>scheduled_time</th>\n      <th>actual_time</th>\n      <th>delay_minutes</th>\n      <th>status</th>\n      <th>line</th>\n      <th>type</th>\n      <th>day</th>\n      <th>time</th>\n    </tr>\n  </thead>\n  <tbody>\n    <tr>\n      <th>0</th>\n      <td>3805</td>\n      <td>1.0</td>\n      <td>105</td>\n      <td>105</td>\n      <td>2018-03-02 01:22:00</td>\n      <td>2018-03-02 01:21:05</td>\n      <td>0.000000</td>\n      <td>departed</td>\n      <td>Northeast Corrdr</td>\n      <td>NJ Transit</td>\n      <td>Thursday</td>\n      <td>01:22:00</td>\n    </tr>\n    <tr>\n      <th>1</th>\n      <td>3805</td>\n      <td>2.0</td>\n      <td>105</td>\n      <td>38187</td>\n      <td>2018-03-02 01:31:00</td>\n      <td>2018-03-02 01:31:08</td>\n      <td>0.133333</td>\n      <td>departed</td>\n      <td>Northeast Corrdr</td>\n      <td>NJ Transit</td>\n      <td>Thursday</td>\n      <td>01:31:00</td>\n    </tr>\n    <tr>\n      <th>2</th>\n      <td>3805</td>\n      <td>3.0</td>\n      <td>38187</td>\n      <td>107</td>\n      <td>2018-03-02 01:40:00</td>\n      <td>2018-03-02 01:40:07</td>\n      <td>0.116667</td>\n      <td>departed</td>\n      <td>Northeast Corrdr</td>\n      <td>NJ Transit</td>\n      <td>Thursday</td>\n      <td>01:40:00</td>\n    </tr>\n    <tr>\n      <th>3</th>\n      <td>3805</td>\n      <td>4.0</td>\n      <td>107</td>\n      <td>37953</td>\n      <td>2018-03-02 01:45:00</td>\n      <td>2018-03-02 01:45:10</td>\n      <td>0.166667</td>\n      <td>departed</td>\n      <td>Northeast Corrdr</td>\n      <td>NJ Transit</td>\n      <td>Thursday</td>\n      <td>01:45:00</td>\n    </tr>\n    <tr>\n      <th>4</th>\n      <td>3805</td>\n      <td>5.0</td>\n      <td>37953</td>\n      <td>109</td>\n      <td>2018-03-02 01:49:00</td>\n      <td>2018-03-02 01:49:10</td>\n      <td>0.166667</td>\n      <td>departed</td>\n      <td>Northeast Corrdr</td>\n      <td>NJ Transit</td>\n      <td>Thursday</td>\n      <td>01:49:00</td>\n    </tr>\n  </tbody>\n</table>\n</div>"
     },
     "execution_count": 12,
     "metadata": {},
     "output_type": "execute_result"
    }
   ],
   "source": [
    "work_data.head()"
   ],
   "metadata": {
    "collapsed": false,
    "ExecuteTime": {
     "start_time": "2023-04-14T11:04:25.705435Z",
     "end_time": "2023-04-14T11:04:25.868918Z"
    }
   }
  },
  {
   "cell_type": "code",
   "execution_count": 13,
   "outputs": [],
   "source": [
    "work_data['part_of_the_day'] = '0'"
   ],
   "metadata": {
    "collapsed": false,
    "ExecuteTime": {
     "start_time": "2023-04-14T11:04:25.723376Z",
     "end_time": "2023-04-14T11:04:25.868918Z"
    }
   }
  },
  {
   "cell_type": "code",
   "execution_count": 14,
   "outputs": [],
   "source": [
    "def part(hour) -> str:\n",
    "    if (hour >= 4) and (hour < 8):\n",
    "        return 'early_morning'\n",
    "    elif (hour >= 8) and (hour < 12 ):\n",
    "        return 'morning'\n",
    "    elif (hour >= 12) and (hour < 16):\n",
    "        return'afternoon'\n",
    "    elif (hour >= 16) and (hour < 20) :\n",
    "        return 'evening'\n",
    "    elif (hour >= 20) and (hour < 24):\n",
    "        return 'night'\n",
    "    elif (hour < 4):\n",
    "        return'late_night'"
   ],
   "metadata": {
    "collapsed": false,
    "ExecuteTime": {
     "start_time": "2023-04-14T11:04:25.738350Z",
     "end_time": "2023-04-14T11:04:25.868918Z"
    }
   }
  },
  {
   "cell_type": "code",
   "execution_count": 15,
   "outputs": [],
   "source": [
    "def determine_time(time) -> str:\n",
    "    hour = time.hour\n",
    "    name = part(hour)\n",
    "    return name"
   ],
   "metadata": {
    "collapsed": false,
    "ExecuteTime": {
     "start_time": "2023-04-14T11:04:25.753243Z",
     "end_time": "2023-04-14T11:04:25.890845Z"
    }
   }
  },
  {
   "cell_type": "code",
   "execution_count": 16,
   "outputs": [],
   "source": [
    "work_data['part_of_the_day'] = work_data['time'].apply(determine_time)"
   ],
   "metadata": {
    "collapsed": false,
    "ExecuteTime": {
     "start_time": "2023-04-14T11:04:25.767189Z",
     "end_time": "2023-04-14T11:04:25.953570Z"
    }
   }
  },
  {
   "cell_type": "code",
   "execution_count": 17,
   "outputs": [],
   "source": [
    "work_data= work_data.drop(columns='time')"
   ],
   "metadata": {
    "collapsed": false,
    "ExecuteTime": {
     "start_time": "2023-04-14T11:04:25.832031Z",
     "end_time": "2023-04-14T11:04:25.984536Z"
    }
   }
  },
  {
   "cell_type": "code",
   "execution_count": 18,
   "outputs": [
    {
     "data": {
      "text/plain": "    train_id  stop_sequence  from_id  to_id      scheduled_time   \n0       3805            1.0      105    105 2018-03-02 01:22:00  \\\n1       3805            2.0      105  38187 2018-03-02 01:31:00   \n2       3805            3.0    38187    107 2018-03-02 01:40:00   \n3       3805            4.0      107  37953 2018-03-02 01:45:00   \n4       3805            5.0    37953    109 2018-03-02 01:49:00   \n..       ...            ...      ...    ...                 ...   \n113     3834            9.0      127  37953 2018-03-01 10:50:00   \n114     3834           10.0    37953    107 2018-03-01 10:56:00   \n115     3834           11.0      107  38187 2018-03-01 11:03:00   \n116     3834           12.0    38187    105 2018-03-01 11:16:00   \n122     0813            1.0       63     63 2018-03-01 18:34:00   \n\n             actual_time  delay_minutes     status              line   \n0    2018-03-02 01:21:05       0.000000   departed  Northeast Corrdr  \\\n1    2018-03-02 01:31:08       0.133333   departed  Northeast Corrdr   \n2    2018-03-02 01:40:07       0.116667   departed  Northeast Corrdr   \n3    2018-03-02 01:45:10       0.166667   departed  Northeast Corrdr   \n4    2018-03-02 01:49:10       0.166667   departed  Northeast Corrdr   \n..                   ...            ...        ...               ...   \n113  2018-03-01 10:55:09       5.150000   departed  Northeast Corrdr   \n114  2018-03-01 11:01:04       5.066667   departed  Northeast Corrdr   \n115  2018-03-01 11:15:09      12.150000   departed  Northeast Corrdr   \n116  2018-03-01 11:32:00      16.000000  estimated  Northeast Corrdr   \n122  2018-03-01 18:33:04       0.000000   departed   Morristown Line   \n\n           type       day part_of_the_day  \n0    NJ Transit  Thursday      late_night  \n1    NJ Transit  Thursday      late_night  \n2    NJ Transit  Thursday      late_night  \n3    NJ Transit  Thursday      late_night  \n4    NJ Transit  Thursday      late_night  \n..          ...       ...             ...  \n113  NJ Transit  Thursday         morning  \n114  NJ Transit  Thursday         morning  \n115  NJ Transit  Thursday         morning  \n116  NJ Transit  Thursday         morning  \n122  NJ Transit  Thursday         evening  \n\n[100 rows x 12 columns]",
      "text/html": "<div>\n<style scoped>\n    .dataframe tbody tr th:only-of-type {\n        vertical-align: middle;\n    }\n\n    .dataframe tbody tr th {\n        vertical-align: top;\n    }\n\n    .dataframe thead th {\n        text-align: right;\n    }\n</style>\n<table border=\"1\" class=\"dataframe\">\n  <thead>\n    <tr style=\"text-align: right;\">\n      <th></th>\n      <th>train_id</th>\n      <th>stop_sequence</th>\n      <th>from_id</th>\n      <th>to_id</th>\n      <th>scheduled_time</th>\n      <th>actual_time</th>\n      <th>delay_minutes</th>\n      <th>status</th>\n      <th>line</th>\n      <th>type</th>\n      <th>day</th>\n      <th>part_of_the_day</th>\n    </tr>\n  </thead>\n  <tbody>\n    <tr>\n      <th>0</th>\n      <td>3805</td>\n      <td>1.0</td>\n      <td>105</td>\n      <td>105</td>\n      <td>2018-03-02 01:22:00</td>\n      <td>2018-03-02 01:21:05</td>\n      <td>0.000000</td>\n      <td>departed</td>\n      <td>Northeast Corrdr</td>\n      <td>NJ Transit</td>\n      <td>Thursday</td>\n      <td>late_night</td>\n    </tr>\n    <tr>\n      <th>1</th>\n      <td>3805</td>\n      <td>2.0</td>\n      <td>105</td>\n      <td>38187</td>\n      <td>2018-03-02 01:31:00</td>\n      <td>2018-03-02 01:31:08</td>\n      <td>0.133333</td>\n      <td>departed</td>\n      <td>Northeast Corrdr</td>\n      <td>NJ Transit</td>\n      <td>Thursday</td>\n      <td>late_night</td>\n    </tr>\n    <tr>\n      <th>2</th>\n      <td>3805</td>\n      <td>3.0</td>\n      <td>38187</td>\n      <td>107</td>\n      <td>2018-03-02 01:40:00</td>\n      <td>2018-03-02 01:40:07</td>\n      <td>0.116667</td>\n      <td>departed</td>\n      <td>Northeast Corrdr</td>\n      <td>NJ Transit</td>\n      <td>Thursday</td>\n      <td>late_night</td>\n    </tr>\n    <tr>\n      <th>3</th>\n      <td>3805</td>\n      <td>4.0</td>\n      <td>107</td>\n      <td>37953</td>\n      <td>2018-03-02 01:45:00</td>\n      <td>2018-03-02 01:45:10</td>\n      <td>0.166667</td>\n      <td>departed</td>\n      <td>Northeast Corrdr</td>\n      <td>NJ Transit</td>\n      <td>Thursday</td>\n      <td>late_night</td>\n    </tr>\n    <tr>\n      <th>4</th>\n      <td>3805</td>\n      <td>5.0</td>\n      <td>37953</td>\n      <td>109</td>\n      <td>2018-03-02 01:49:00</td>\n      <td>2018-03-02 01:49:10</td>\n      <td>0.166667</td>\n      <td>departed</td>\n      <td>Northeast Corrdr</td>\n      <td>NJ Transit</td>\n      <td>Thursday</td>\n      <td>late_night</td>\n    </tr>\n    <tr>\n      <th>...</th>\n      <td>...</td>\n      <td>...</td>\n      <td>...</td>\n      <td>...</td>\n      <td>...</td>\n      <td>...</td>\n      <td>...</td>\n      <td>...</td>\n      <td>...</td>\n      <td>...</td>\n      <td>...</td>\n      <td>...</td>\n    </tr>\n    <tr>\n      <th>113</th>\n      <td>3834</td>\n      <td>9.0</td>\n      <td>127</td>\n      <td>37953</td>\n      <td>2018-03-01 10:50:00</td>\n      <td>2018-03-01 10:55:09</td>\n      <td>5.150000</td>\n      <td>departed</td>\n      <td>Northeast Corrdr</td>\n      <td>NJ Transit</td>\n      <td>Thursday</td>\n      <td>morning</td>\n    </tr>\n    <tr>\n      <th>114</th>\n      <td>3834</td>\n      <td>10.0</td>\n      <td>37953</td>\n      <td>107</td>\n      <td>2018-03-01 10:56:00</td>\n      <td>2018-03-01 11:01:04</td>\n      <td>5.066667</td>\n      <td>departed</td>\n      <td>Northeast Corrdr</td>\n      <td>NJ Transit</td>\n      <td>Thursday</td>\n      <td>morning</td>\n    </tr>\n    <tr>\n      <th>115</th>\n      <td>3834</td>\n      <td>11.0</td>\n      <td>107</td>\n      <td>38187</td>\n      <td>2018-03-01 11:03:00</td>\n      <td>2018-03-01 11:15:09</td>\n      <td>12.150000</td>\n      <td>departed</td>\n      <td>Northeast Corrdr</td>\n      <td>NJ Transit</td>\n      <td>Thursday</td>\n      <td>morning</td>\n    </tr>\n    <tr>\n      <th>116</th>\n      <td>3834</td>\n      <td>12.0</td>\n      <td>38187</td>\n      <td>105</td>\n      <td>2018-03-01 11:16:00</td>\n      <td>2018-03-01 11:32:00</td>\n      <td>16.000000</td>\n      <td>estimated</td>\n      <td>Northeast Corrdr</td>\n      <td>NJ Transit</td>\n      <td>Thursday</td>\n      <td>morning</td>\n    </tr>\n    <tr>\n      <th>122</th>\n      <td>0813</td>\n      <td>1.0</td>\n      <td>63</td>\n      <td>63</td>\n      <td>2018-03-01 18:34:00</td>\n      <td>2018-03-01 18:33:04</td>\n      <td>0.000000</td>\n      <td>departed</td>\n      <td>Morristown Line</td>\n      <td>NJ Transit</td>\n      <td>Thursday</td>\n      <td>evening</td>\n    </tr>\n  </tbody>\n</table>\n<p>100 rows × 12 columns</p>\n</div>"
     },
     "execution_count": 18,
     "metadata": {},
     "output_type": "execute_result"
    }
   ],
   "source": [
    "work_data.head(100)"
   ],
   "metadata": {
    "collapsed": false,
    "ExecuteTime": {
     "start_time": "2023-04-14T11:04:25.861937Z",
     "end_time": "2023-04-14T11:04:25.993510Z"
    }
   }
  },
  {
   "cell_type": "code",
   "execution_count": 19,
   "outputs": [],
   "source": [
    "def convert_delay(data: pd.DataFrame) -> pd.DataFrame:\n",
    "    def create_delay(row):\n",
    "        if row >= 5:\n",
    "            val = 1\n",
    "        else:\n",
    "            val = 0\n",
    "        return val\n",
    "\n",
    "    data['delay'] = data.delay_minutes.apply(create_delay)\n",
    "    return data"
   ],
   "metadata": {
    "collapsed": false,
    "ExecuteTime": {
     "start_time": "2023-04-14T11:04:25.876858Z",
     "end_time": "2023-04-14T11:04:25.993510Z"
    }
   }
  },
  {
   "cell_type": "code",
   "execution_count": 20,
   "outputs": [],
   "source": [
    "work_data = convert_delay(work_data)"
   ],
   "metadata": {
    "collapsed": false,
    "ExecuteTime": {
     "start_time": "2023-04-14T11:04:25.942676Z",
     "end_time": "2023-04-14T11:04:26.066271Z"
    }
   }
  },
  {
   "cell_type": "code",
   "execution_count": 21,
   "outputs": [
    {
     "data": {
      "text/plain": "    train_id  stop_sequence  from_id  to_id      scheduled_time   \n0       3805            1.0      105    105 2018-03-02 01:22:00  \\\n1       3805            2.0      105  38187 2018-03-02 01:31:00   \n2       3805            3.0    38187    107 2018-03-02 01:40:00   \n3       3805            4.0      107  37953 2018-03-02 01:45:00   \n4       3805            5.0    37953    109 2018-03-02 01:49:00   \n..       ...            ...      ...    ...                 ...   \n113     3834            9.0      127  37953 2018-03-01 10:50:00   \n114     3834           10.0    37953    107 2018-03-01 10:56:00   \n115     3834           11.0      107  38187 2018-03-01 11:03:00   \n116     3834           12.0    38187    105 2018-03-01 11:16:00   \n122     0813            1.0       63     63 2018-03-01 18:34:00   \n\n             actual_time  delay_minutes     status              line   \n0    2018-03-02 01:21:05       0.000000   departed  Northeast Corrdr  \\\n1    2018-03-02 01:31:08       0.133333   departed  Northeast Corrdr   \n2    2018-03-02 01:40:07       0.116667   departed  Northeast Corrdr   \n3    2018-03-02 01:45:10       0.166667   departed  Northeast Corrdr   \n4    2018-03-02 01:49:10       0.166667   departed  Northeast Corrdr   \n..                   ...            ...        ...               ...   \n113  2018-03-01 10:55:09       5.150000   departed  Northeast Corrdr   \n114  2018-03-01 11:01:04       5.066667   departed  Northeast Corrdr   \n115  2018-03-01 11:15:09      12.150000   departed  Northeast Corrdr   \n116  2018-03-01 11:32:00      16.000000  estimated  Northeast Corrdr   \n122  2018-03-01 18:33:04       0.000000   departed   Morristown Line   \n\n           type       day part_of_the_day  delay  \n0    NJ Transit  Thursday      late_night      0  \n1    NJ Transit  Thursday      late_night      0  \n2    NJ Transit  Thursday      late_night      0  \n3    NJ Transit  Thursday      late_night      0  \n4    NJ Transit  Thursday      late_night      0  \n..          ...       ...             ...    ...  \n113  NJ Transit  Thursday         morning      1  \n114  NJ Transit  Thursday         morning      1  \n115  NJ Transit  Thursday         morning      1  \n116  NJ Transit  Thursday         morning      1  \n122  NJ Transit  Thursday         evening      0  \n\n[100 rows x 13 columns]",
      "text/html": "<div>\n<style scoped>\n    .dataframe tbody tr th:only-of-type {\n        vertical-align: middle;\n    }\n\n    .dataframe tbody tr th {\n        vertical-align: top;\n    }\n\n    .dataframe thead th {\n        text-align: right;\n    }\n</style>\n<table border=\"1\" class=\"dataframe\">\n  <thead>\n    <tr style=\"text-align: right;\">\n      <th></th>\n      <th>train_id</th>\n      <th>stop_sequence</th>\n      <th>from_id</th>\n      <th>to_id</th>\n      <th>scheduled_time</th>\n      <th>actual_time</th>\n      <th>delay_minutes</th>\n      <th>status</th>\n      <th>line</th>\n      <th>type</th>\n      <th>day</th>\n      <th>part_of_the_day</th>\n      <th>delay</th>\n    </tr>\n  </thead>\n  <tbody>\n    <tr>\n      <th>0</th>\n      <td>3805</td>\n      <td>1.0</td>\n      <td>105</td>\n      <td>105</td>\n      <td>2018-03-02 01:22:00</td>\n      <td>2018-03-02 01:21:05</td>\n      <td>0.000000</td>\n      <td>departed</td>\n      <td>Northeast Corrdr</td>\n      <td>NJ Transit</td>\n      <td>Thursday</td>\n      <td>late_night</td>\n      <td>0</td>\n    </tr>\n    <tr>\n      <th>1</th>\n      <td>3805</td>\n      <td>2.0</td>\n      <td>105</td>\n      <td>38187</td>\n      <td>2018-03-02 01:31:00</td>\n      <td>2018-03-02 01:31:08</td>\n      <td>0.133333</td>\n      <td>departed</td>\n      <td>Northeast Corrdr</td>\n      <td>NJ Transit</td>\n      <td>Thursday</td>\n      <td>late_night</td>\n      <td>0</td>\n    </tr>\n    <tr>\n      <th>2</th>\n      <td>3805</td>\n      <td>3.0</td>\n      <td>38187</td>\n      <td>107</td>\n      <td>2018-03-02 01:40:00</td>\n      <td>2018-03-02 01:40:07</td>\n      <td>0.116667</td>\n      <td>departed</td>\n      <td>Northeast Corrdr</td>\n      <td>NJ Transit</td>\n      <td>Thursday</td>\n      <td>late_night</td>\n      <td>0</td>\n    </tr>\n    <tr>\n      <th>3</th>\n      <td>3805</td>\n      <td>4.0</td>\n      <td>107</td>\n      <td>37953</td>\n      <td>2018-03-02 01:45:00</td>\n      <td>2018-03-02 01:45:10</td>\n      <td>0.166667</td>\n      <td>departed</td>\n      <td>Northeast Corrdr</td>\n      <td>NJ Transit</td>\n      <td>Thursday</td>\n      <td>late_night</td>\n      <td>0</td>\n    </tr>\n    <tr>\n      <th>4</th>\n      <td>3805</td>\n      <td>5.0</td>\n      <td>37953</td>\n      <td>109</td>\n      <td>2018-03-02 01:49:00</td>\n      <td>2018-03-02 01:49:10</td>\n      <td>0.166667</td>\n      <td>departed</td>\n      <td>Northeast Corrdr</td>\n      <td>NJ Transit</td>\n      <td>Thursday</td>\n      <td>late_night</td>\n      <td>0</td>\n    </tr>\n    <tr>\n      <th>...</th>\n      <td>...</td>\n      <td>...</td>\n      <td>...</td>\n      <td>...</td>\n      <td>...</td>\n      <td>...</td>\n      <td>...</td>\n      <td>...</td>\n      <td>...</td>\n      <td>...</td>\n      <td>...</td>\n      <td>...</td>\n      <td>...</td>\n    </tr>\n    <tr>\n      <th>113</th>\n      <td>3834</td>\n      <td>9.0</td>\n      <td>127</td>\n      <td>37953</td>\n      <td>2018-03-01 10:50:00</td>\n      <td>2018-03-01 10:55:09</td>\n      <td>5.150000</td>\n      <td>departed</td>\n      <td>Northeast Corrdr</td>\n      <td>NJ Transit</td>\n      <td>Thursday</td>\n      <td>morning</td>\n      <td>1</td>\n    </tr>\n    <tr>\n      <th>114</th>\n      <td>3834</td>\n      <td>10.0</td>\n      <td>37953</td>\n      <td>107</td>\n      <td>2018-03-01 10:56:00</td>\n      <td>2018-03-01 11:01:04</td>\n      <td>5.066667</td>\n      <td>departed</td>\n      <td>Northeast Corrdr</td>\n      <td>NJ Transit</td>\n      <td>Thursday</td>\n      <td>morning</td>\n      <td>1</td>\n    </tr>\n    <tr>\n      <th>115</th>\n      <td>3834</td>\n      <td>11.0</td>\n      <td>107</td>\n      <td>38187</td>\n      <td>2018-03-01 11:03:00</td>\n      <td>2018-03-01 11:15:09</td>\n      <td>12.150000</td>\n      <td>departed</td>\n      <td>Northeast Corrdr</td>\n      <td>NJ Transit</td>\n      <td>Thursday</td>\n      <td>morning</td>\n      <td>1</td>\n    </tr>\n    <tr>\n      <th>116</th>\n      <td>3834</td>\n      <td>12.0</td>\n      <td>38187</td>\n      <td>105</td>\n      <td>2018-03-01 11:16:00</td>\n      <td>2018-03-01 11:32:00</td>\n      <td>16.000000</td>\n      <td>estimated</td>\n      <td>Northeast Corrdr</td>\n      <td>NJ Transit</td>\n      <td>Thursday</td>\n      <td>morning</td>\n      <td>1</td>\n    </tr>\n    <tr>\n      <th>122</th>\n      <td>0813</td>\n      <td>1.0</td>\n      <td>63</td>\n      <td>63</td>\n      <td>2018-03-01 18:34:00</td>\n      <td>2018-03-01 18:33:04</td>\n      <td>0.000000</td>\n      <td>departed</td>\n      <td>Morristown Line</td>\n      <td>NJ Transit</td>\n      <td>Thursday</td>\n      <td>evening</td>\n      <td>0</td>\n    </tr>\n  </tbody>\n</table>\n<p>100 rows × 13 columns</p>\n</div>"
     },
     "execution_count": 21,
     "metadata": {},
     "output_type": "execute_result"
    }
   ],
   "source": [
    "work_data.head(100)"
   ],
   "metadata": {
    "collapsed": false,
    "ExecuteTime": {
     "start_time": "2023-04-14T11:04:25.956635Z",
     "end_time": "2023-04-14T11:04:26.111135Z"
    }
   }
  },
  {
   "cell_type": "code",
   "execution_count": 22,
   "outputs": [],
   "source": [
    "def drop_unnecessary_columns(inputdata: pd.DataFrame) -> pd.DataFrame:\n",
    "    columns_to_drop: List = ['train_id', 'scheduled_time', 'actual_time', 'delay_minutes']\n",
    "    inputdata = inputdata.drop(columns=columns_to_drop)\n",
    "    return inputdata"
   ],
   "metadata": {
    "collapsed": false,
    "ExecuteTime": {
     "start_time": "2023-04-14T11:04:25.972581Z",
     "end_time": "2023-04-14T11:04:26.112111Z"
    }
   }
  },
  {
   "cell_type": "code",
   "execution_count": 23,
   "outputs": [],
   "source": [
    "work_data = drop_unnecessary_columns(work_data)"
   ],
   "metadata": {
    "collapsed": false,
    "ExecuteTime": {
     "start_time": "2023-04-14T11:04:25.987529Z",
     "end_time": "2023-04-14T11:04:26.112111Z"
    }
   }
  },
  {
   "cell_type": "code",
   "execution_count": 24,
   "outputs": [
    {
     "data": {
      "text/plain": "     stop_sequence  from_id  to_id     status              line        type   \n0              1.0      105    105   departed  Northeast Corrdr  NJ Transit  \\\n1              2.0      105  38187   departed  Northeast Corrdr  NJ Transit   \n2              3.0    38187    107   departed  Northeast Corrdr  NJ Transit   \n3              4.0      107  37953   departed  Northeast Corrdr  NJ Transit   \n4              5.0    37953    109   departed  Northeast Corrdr  NJ Transit   \n..             ...      ...    ...        ...               ...         ...   \n113            9.0      127  37953   departed  Northeast Corrdr  NJ Transit   \n114           10.0    37953    107   departed  Northeast Corrdr  NJ Transit   \n115           11.0      107  38187   departed  Northeast Corrdr  NJ Transit   \n116           12.0    38187    105  estimated  Northeast Corrdr  NJ Transit   \n122            1.0       63     63   departed   Morristown Line  NJ Transit   \n\n          day part_of_the_day  delay  \n0    Thursday      late_night      0  \n1    Thursday      late_night      0  \n2    Thursday      late_night      0  \n3    Thursday      late_night      0  \n4    Thursday      late_night      0  \n..        ...             ...    ...  \n113  Thursday         morning      1  \n114  Thursday         morning      1  \n115  Thursday         morning      1  \n116  Thursday         morning      1  \n122  Thursday         evening      0  \n\n[100 rows x 9 columns]",
      "text/html": "<div>\n<style scoped>\n    .dataframe tbody tr th:only-of-type {\n        vertical-align: middle;\n    }\n\n    .dataframe tbody tr th {\n        vertical-align: top;\n    }\n\n    .dataframe thead th {\n        text-align: right;\n    }\n</style>\n<table border=\"1\" class=\"dataframe\">\n  <thead>\n    <tr style=\"text-align: right;\">\n      <th></th>\n      <th>stop_sequence</th>\n      <th>from_id</th>\n      <th>to_id</th>\n      <th>status</th>\n      <th>line</th>\n      <th>type</th>\n      <th>day</th>\n      <th>part_of_the_day</th>\n      <th>delay</th>\n    </tr>\n  </thead>\n  <tbody>\n    <tr>\n      <th>0</th>\n      <td>1.0</td>\n      <td>105</td>\n      <td>105</td>\n      <td>departed</td>\n      <td>Northeast Corrdr</td>\n      <td>NJ Transit</td>\n      <td>Thursday</td>\n      <td>late_night</td>\n      <td>0</td>\n    </tr>\n    <tr>\n      <th>1</th>\n      <td>2.0</td>\n      <td>105</td>\n      <td>38187</td>\n      <td>departed</td>\n      <td>Northeast Corrdr</td>\n      <td>NJ Transit</td>\n      <td>Thursday</td>\n      <td>late_night</td>\n      <td>0</td>\n    </tr>\n    <tr>\n      <th>2</th>\n      <td>3.0</td>\n      <td>38187</td>\n      <td>107</td>\n      <td>departed</td>\n      <td>Northeast Corrdr</td>\n      <td>NJ Transit</td>\n      <td>Thursday</td>\n      <td>late_night</td>\n      <td>0</td>\n    </tr>\n    <tr>\n      <th>3</th>\n      <td>4.0</td>\n      <td>107</td>\n      <td>37953</td>\n      <td>departed</td>\n      <td>Northeast Corrdr</td>\n      <td>NJ Transit</td>\n      <td>Thursday</td>\n      <td>late_night</td>\n      <td>0</td>\n    </tr>\n    <tr>\n      <th>4</th>\n      <td>5.0</td>\n      <td>37953</td>\n      <td>109</td>\n      <td>departed</td>\n      <td>Northeast Corrdr</td>\n      <td>NJ Transit</td>\n      <td>Thursday</td>\n      <td>late_night</td>\n      <td>0</td>\n    </tr>\n    <tr>\n      <th>...</th>\n      <td>...</td>\n      <td>...</td>\n      <td>...</td>\n      <td>...</td>\n      <td>...</td>\n      <td>...</td>\n      <td>...</td>\n      <td>...</td>\n      <td>...</td>\n    </tr>\n    <tr>\n      <th>113</th>\n      <td>9.0</td>\n      <td>127</td>\n      <td>37953</td>\n      <td>departed</td>\n      <td>Northeast Corrdr</td>\n      <td>NJ Transit</td>\n      <td>Thursday</td>\n      <td>morning</td>\n      <td>1</td>\n    </tr>\n    <tr>\n      <th>114</th>\n      <td>10.0</td>\n      <td>37953</td>\n      <td>107</td>\n      <td>departed</td>\n      <td>Northeast Corrdr</td>\n      <td>NJ Transit</td>\n      <td>Thursday</td>\n      <td>morning</td>\n      <td>1</td>\n    </tr>\n    <tr>\n      <th>115</th>\n      <td>11.0</td>\n      <td>107</td>\n      <td>38187</td>\n      <td>departed</td>\n      <td>Northeast Corrdr</td>\n      <td>NJ Transit</td>\n      <td>Thursday</td>\n      <td>morning</td>\n      <td>1</td>\n    </tr>\n    <tr>\n      <th>116</th>\n      <td>12.0</td>\n      <td>38187</td>\n      <td>105</td>\n      <td>estimated</td>\n      <td>Northeast Corrdr</td>\n      <td>NJ Transit</td>\n      <td>Thursday</td>\n      <td>morning</td>\n      <td>1</td>\n    </tr>\n    <tr>\n      <th>122</th>\n      <td>1.0</td>\n      <td>63</td>\n      <td>63</td>\n      <td>departed</td>\n      <td>Morristown Line</td>\n      <td>NJ Transit</td>\n      <td>Thursday</td>\n      <td>evening</td>\n      <td>0</td>\n    </tr>\n  </tbody>\n</table>\n<p>100 rows × 9 columns</p>\n</div>"
     },
     "execution_count": 24,
     "metadata": {},
     "output_type": "execute_result"
    }
   ],
   "source": [
    "work_data.head(100)"
   ],
   "metadata": {
    "collapsed": false,
    "ExecuteTime": {
     "start_time": "2023-04-14T11:04:26.010445Z",
     "end_time": "2023-04-14T11:04:26.145001Z"
    }
   }
  },
  {
   "cell_type": "code",
   "execution_count": 25,
   "outputs": [],
   "source": [
    "def save_first_60k(inputdata: pd.DataFrame, path_to_save: str):\n",
    "    inputdata.iloc[:60000].to_csv(path_to_save, index=False, sep=',')"
   ],
   "metadata": {
    "collapsed": false,
    "ExecuteTime": {
     "start_time": "2023-04-14T11:04:26.021418Z",
     "end_time": "2023-04-14T11:04:26.145995Z"
    }
   }
  },
  {
   "cell_type": "code",
   "execution_count": 26,
   "outputs": [],
   "source": [
    "save_first_60k(work_data, 'data/NJ1.csv')"
   ],
   "metadata": {
    "collapsed": false,
    "ExecuteTime": {
     "start_time": "2023-04-14T11:04:26.038287Z",
     "end_time": "2023-04-14T11:04:26.284531Z"
    }
   }
  },
  {
   "cell_type": "code",
   "execution_count": 27,
   "outputs": [
    {
     "name": "stdout",
     "output_type": "stream",
     "text": [
      "D:\\Egyetem\\BevAdat\\FQQQOC_BEVADAT2022232\\HAZI\\HAZI06\n"
     ]
    }
   ],
   "source": [
    "print(os.getcwd())"
   ],
   "metadata": {
    "collapsed": false,
    "ExecuteTime": {
     "start_time": "2023-04-14T11:04:26.162935Z",
     "end_time": "2023-04-14T11:04:26.347324Z"
    }
   }
  },
  {
   "cell_type": "code",
   "execution_count": 28,
   "outputs": [],
   "source": [
    "cleaner = NJCleaner('data/2018_03.csv')"
   ],
   "metadata": {
    "collapsed": false,
    "ExecuteTime": {
     "start_time": "2023-04-14T11:04:26.177820Z",
     "end_time": "2023-04-14T11:04:26.488842Z"
    }
   }
  },
  {
   "cell_type": "code",
   "execution_count": 29,
   "outputs": [],
   "source": [
    "cleaner.prep_df('data/NJ.csv')"
   ],
   "metadata": {
    "collapsed": false,
    "ExecuteTime": {
     "start_time": "2023-04-14T11:04:26.486784Z",
     "end_time": "2023-04-14T11:04:27.477542Z"
    }
   }
  },
  {
   "cell_type": "code",
   "execution_count": 30,
   "outputs": [],
   "source": [
    "data_to_fit = pd.read_csv('data/NJ_60k.csv', sep=',', header=0)"
   ],
   "metadata": {
    "collapsed": false,
    "ExecuteTime": {
     "start_time": "2023-04-14T11:04:27.417666Z",
     "end_time": "2023-04-14T11:04:27.478503Z"
    }
   }
  },
  {
   "cell_type": "code",
   "execution_count": 31,
   "outputs": [
    {
     "data": {
      "text/plain": "   stop_sequence  from_id  to_id    status              line        type   \n0            1.0      148    148  departed  Northeast Corrdr  NJ Transit  \\\n1            1.0      123    123  departed  Bergen Co. Line   NJ Transit   \n2            2.0      148  32905  departed  Northeast Corrdr  NJ Transit   \n3            1.0       74     74  departed   No Jersey Coast  NJ Transit   \n4            3.0    32905    125  departed  Northeast Corrdr  NJ Transit   \n\n        day part_of_the_day  delay  \n0  Thursday      late_night      1  \n1  Thursday      late_night      0  \n2  Thursday      late_night      1  \n3  Thursday      late_night      0  \n4  Thursday   early_morning      0  ",
      "text/html": "<div>\n<style scoped>\n    .dataframe tbody tr th:only-of-type {\n        vertical-align: middle;\n    }\n\n    .dataframe tbody tr th {\n        vertical-align: top;\n    }\n\n    .dataframe thead th {\n        text-align: right;\n    }\n</style>\n<table border=\"1\" class=\"dataframe\">\n  <thead>\n    <tr style=\"text-align: right;\">\n      <th></th>\n      <th>stop_sequence</th>\n      <th>from_id</th>\n      <th>to_id</th>\n      <th>status</th>\n      <th>line</th>\n      <th>type</th>\n      <th>day</th>\n      <th>part_of_the_day</th>\n      <th>delay</th>\n    </tr>\n  </thead>\n  <tbody>\n    <tr>\n      <th>0</th>\n      <td>1.0</td>\n      <td>148</td>\n      <td>148</td>\n      <td>departed</td>\n      <td>Northeast Corrdr</td>\n      <td>NJ Transit</td>\n      <td>Thursday</td>\n      <td>late_night</td>\n      <td>1</td>\n    </tr>\n    <tr>\n      <th>1</th>\n      <td>1.0</td>\n      <td>123</td>\n      <td>123</td>\n      <td>departed</td>\n      <td>Bergen Co. Line</td>\n      <td>NJ Transit</td>\n      <td>Thursday</td>\n      <td>late_night</td>\n      <td>0</td>\n    </tr>\n    <tr>\n      <th>2</th>\n      <td>2.0</td>\n      <td>148</td>\n      <td>32905</td>\n      <td>departed</td>\n      <td>Northeast Corrdr</td>\n      <td>NJ Transit</td>\n      <td>Thursday</td>\n      <td>late_night</td>\n      <td>1</td>\n    </tr>\n    <tr>\n      <th>3</th>\n      <td>1.0</td>\n      <td>74</td>\n      <td>74</td>\n      <td>departed</td>\n      <td>No Jersey Coast</td>\n      <td>NJ Transit</td>\n      <td>Thursday</td>\n      <td>late_night</td>\n      <td>0</td>\n    </tr>\n    <tr>\n      <th>4</th>\n      <td>3.0</td>\n      <td>32905</td>\n      <td>125</td>\n      <td>departed</td>\n      <td>Northeast Corrdr</td>\n      <td>NJ Transit</td>\n      <td>Thursday</td>\n      <td>early_morning</td>\n      <td>0</td>\n    </tr>\n  </tbody>\n</table>\n</div>"
     },
     "execution_count": 31,
     "metadata": {},
     "output_type": "execute_result"
    }
   ],
   "source": [
    "data_to_fit.head()"
   ],
   "metadata": {
    "collapsed": false,
    "ExecuteTime": {
     "start_time": "2023-04-14T11:04:27.477542Z",
     "end_time": "2023-04-14T11:04:27.494485Z"
    }
   }
  },
  {
   "cell_type": "code",
   "execution_count": 32,
   "outputs": [],
   "source": [
    "X: pd.DataFrame = data_to_fit.iloc[:, :-1].values\n",
    "Y: pd.DataFrame  = data_to_fit.iloc[:, -1].values.reshape(-1,1)\n",
    "X_train, X_test, Y_train, Y_test = train_test_split(X, Y, test_size=.2, random_state=41)"
   ],
   "metadata": {
    "collapsed": false,
    "ExecuteTime": {
     "start_time": "2023-04-14T11:04:27.494485Z",
     "end_time": "2023-04-14T11:04:27.554326Z"
    }
   }
  },
  {
   "cell_type": "code",
   "execution_count": 41,
   "outputs": [
    {
     "name": "stdout",
     "output_type": "stream",
     "text": [
      "0.7955\n"
     ]
    }
   ],
   "source": [
    "classifier = DecisionTreeClassifier(min_samples_split=20, max_depth=8)\n",
    "classifier.fit(X_train, Y_train)\n",
    "\n",
    "Y_pred = classifier.predict(X_test)\n",
    "print(accuracy_score(Y_test, Y_pred))"
   ],
   "metadata": {
    "collapsed": false,
    "ExecuteTime": {
     "start_time": "2023-04-14T11:12:14.688777Z",
     "end_time": "2023-04-14T11:13:56.557945Z"
    }
   }
  },
  {
   "cell_type": "code",
   "execution_count": 42,
   "outputs": [],
   "source": [
    "print(accuracy_score(Y_test, Y_pred))"
   ],
   "metadata": {
    "collapsed": false,
    "ExecuteTime": {
     "start_time": "2023-04-14T11:03:11.741247Z",
     "end_time": "2023-04-14T11:03:11.779847Z"
    }
   }
  },
  {
   "cell_type": "code",
   "execution_count": 45,
   "outputs": [
    {
     "name": "stdout",
     "output_type": "stream",
     "text": [
      "79.37% accuracy 20 min sample és 7 max depth esetén\n",
      "'info_gain' hiba 20 min sample és 9 max depth mellett\n",
      "79.37% accuracy 25 min sample és 7 max depth esetén\n",
      "79.80% accuracy 25 min sample és 9 max depth esetén\n",
      "80.14% accuracy 25 min sample és 11 max depth esetén\n",
      "79.67% accuracy 25 min sample és 13 max depth esetén\n",
      "79.12% accuracy 25 min sample és 15 max depth esetén\n",
      "79.37% accuracy 30 min sample és 7 max depth esetén\n",
      "79.80% accuracy 30 min sample és 9 max depth esetén\n",
      "80.18% accuracy 30 min sample és 11 max depth esetén\n",
      "79.80% accuracy 30 min sample és 13 max depth esetén\n",
      "79.29% accuracy 30 min sample és 15 max depth esetén\n",
      "79.36% accuracy 35 min sample és 7 max depth esetén\n",
      "79.80% accuracy 35 min sample és 9 max depth esetén\n",
      "80.22% accuracy 35 min sample és 11 max depth esetén\n",
      "79.82% accuracy 35 min sample és 13 max depth esetén\n",
      "79.30% accuracy 35 min sample és 15 max depth esetén\n",
      "79.35% accuracy 40 min sample és 7 max depth esetén\n",
      "79.80% accuracy 40 min sample és 9 max depth esetén\n",
      "80.22% accuracy 40 min sample és 11 max depth esetén\n",
      "79.75% accuracy 40 min sample és 13 max depth esetén\n",
      "79.25% accuracy 40 min sample és 15 max depth esetén\n",
      "79.35% accuracy 45 min sample és 7 max depth esetén\n",
      "79.81% accuracy 45 min sample és 9 max depth esetén\n",
      "80.28% accuracy 45 min sample és 11 max depth esetén\n",
      "79.81% accuracy 45 min sample és 13 max depth esetén\n",
      "79.32% accuracy 45 min sample és 15 max depth esetén\n",
      "79.36% accuracy 50 min sample és 7 max depth esetén\n",
      "79.82% accuracy 50 min sample és 9 max depth esetén\n",
      "80.27% accuracy 50 min sample és 11 max depth esetén\n",
      "79.85% accuracy 50 min sample és 13 max depth esetén\n",
      "79.40% accuracy 50 min sample és 15 max depth esetén\n",
      "79.37% accuracy 55 min sample és 7 max depth esetén\n",
      "79.83% accuracy 55 min sample és 9 max depth esetén\n",
      "80.33% accuracy 55 min sample és 11 max depth esetén\n",
      "79.88% accuracy 55 min sample és 13 max depth esetén\n",
      "79.42% accuracy 55 min sample és 15 max depth esetén\n",
      "79.37% accuracy 60 min sample és 7 max depth esetén\n",
      "79.83% accuracy 60 min sample és 9 max depth esetén\n",
      "80.34% accuracy 60 min sample és 11 max depth esetén\n",
      "79.90% accuracy 60 min sample és 13 max depth esetén\n",
      "79.49% accuracy 60 min sample és 15 max depth esetén\n",
      "79.37% accuracy 65 min sample és 7 max depth esetén\n",
      "79.80% accuracy 65 min sample és 9 max depth esetén\n",
      "80.33% accuracy 65 min sample és 11 max depth esetén\n",
      "79.94% accuracy 65 min sample és 13 max depth esetén\n",
      "79.51% accuracy 65 min sample és 15 max depth esetén\n",
      "79.37% accuracy 70 min sample és 7 max depth esetén\n",
      "79.80% accuracy 70 min sample és 9 max depth esetén\n",
      "80.33% accuracy 70 min sample és 11 max depth esetén\n",
      "79.93% accuracy 70 min sample és 13 max depth esetén\n",
      "79.50% accuracy 70 min sample és 15 max depth esetén\n",
      "79.37% accuracy 75 min sample és 7 max depth esetén\n",
      "79.80% accuracy 75 min sample és 9 max depth esetén\n",
      "80.33% accuracy 75 min sample és 11 max depth esetén\n",
      "79.96% accuracy 75 min sample és 13 max depth esetén\n",
      "79.62% accuracy 75 min sample és 15 max depth esetén\n",
      "79.42% accuracy 80 min sample és 7 max depth esetén\n",
      "79.83% accuracy 80 min sample és 9 max depth esetén\n",
      "80.31% accuracy 80 min sample és 11 max depth esetén\n",
      "79.99% accuracy 80 min sample és 13 max depth esetén\n",
      "79.70% accuracy 80 min sample és 15 max depth esetén\n",
      "79.40% accuracy 85 min sample és 7 max depth esetén\n",
      "79.82% accuracy 85 min sample és 9 max depth esetén\n",
      "80.27% accuracy 85 min sample és 11 max depth esetén\n",
      "79.94% accuracy 85 min sample és 13 max depth esetén\n",
      "79.67% accuracy 85 min sample és 15 max depth esetén\n",
      "79.41% accuracy 90 min sample és 7 max depth esetén\n",
      "79.83% accuracy 90 min sample és 9 max depth esetén\n",
      "80.30% accuracy 90 min sample és 11 max depth esetén\n",
      "79.97% accuracy 90 min sample és 13 max depth esetén\n",
      "79.71% accuracy 90 min sample és 15 max depth esetén\n",
      "79.41% accuracy 95 min sample és 7 max depth esetén\n",
      "79.87% accuracy 95 min sample és 9 max depth esetén\n",
      "80.36% accuracy 95 min sample és 11 max depth esetén\n",
      "80.08% accuracy 95 min sample és 13 max depth esetén\n",
      "79.82% accuracy 95 min sample és 15 max depth esetén\n"
     ]
    }
   ],
   "source": [
    "results = []\n",
    "for i in range(20,100,5):\n",
    "    for j in range(7, 17, 2):\n",
    "        try:\n",
    "            classifier = DecisionTreeClassifier(min_samples_split=i, max_depth=j)\n",
    "            classifier.fit(X_train, Y_train)\n",
    "\n",
    "            Y_pred = classifier.predict(X_test)\n",
    "            acc = accuracy_score(Y_test, Y_pred)\n",
    "            results.append([acc, i, j])\n",
    "            print(f'{acc:.2%} accuracy {i} min sample és {j} max depth esetén')\n",
    "        except Exception as e:\n",
    "            print(f'{e} hiba {i} min sample és {j} max depth mellett')\n",
    "            break"
   ],
   "metadata": {
    "collapsed": false,
    "ExecuteTime": {
     "start_time": "2023-04-14T12:11:29.447934Z",
     "end_time": "2023-04-14T14:17:37.919726Z"
    }
   }
  },
  {
   "cell_type": "code",
   "execution_count": 47,
   "outputs": [
    {
     "data": {
      "text/plain": "[[0.8035833333333333, 95, 11],\n [0.8034166666666667, 60, 11],\n [0.8033333333333333, 75, 11],\n [0.8033333333333333, 70, 11],\n [0.8033333333333333, 65, 11],\n [0.80325, 55, 11],\n [0.8030833333333334, 80, 11],\n [0.803, 90, 11],\n [0.8028333333333333, 45, 11],\n [0.8026666666666666, 85, 11],\n [0.8026666666666666, 50, 11],\n [0.8021666666666667, 40, 11],\n [0.8021666666666667, 35, 11],\n [0.8018333333333333, 30, 11],\n [0.8014166666666667, 25, 11],\n [0.80075, 95, 13],\n [0.7999166666666667, 80, 13],\n [0.79975, 90, 13],\n [0.7995833333333333, 75, 13],\n [0.7994166666666667, 85, 13],\n [0.7994166666666667, 65, 13],\n [0.7993333333333333, 70, 13],\n [0.799, 60, 13],\n [0.7988333333333333, 55, 13],\n [0.7986666666666666, 95, 9],\n [0.7985, 50, 13],\n [0.7983333333333333, 80, 9],\n [0.79825, 90, 9],\n [0.79825, 60, 9],\n [0.79825, 55, 9],\n [0.7981666666666667, 95, 15],\n [0.7981666666666667, 85, 9],\n [0.7981666666666667, 50, 9],\n [0.7981666666666667, 35, 13],\n [0.7980833333333334, 45, 13],\n [0.7980833333333334, 45, 9],\n [0.798, 75, 9],\n [0.798, 70, 9],\n [0.798, 65, 9],\n [0.798, 40, 9],\n [0.798, 35, 9],\n [0.798, 30, 13],\n [0.798, 30, 9],\n [0.798, 25, 9],\n [0.7975, 40, 13],\n [0.7970833333333334, 90, 15],\n [0.797, 80, 15],\n [0.7966666666666666, 85, 15],\n [0.7966666666666666, 25, 13],\n [0.7961666666666667, 75, 15],\n [0.7950833333333334, 65, 15],\n [0.795, 70, 15],\n [0.7949166666666667, 60, 15],\n [0.7941666666666667, 80, 7],\n [0.7941666666666667, 55, 15],\n [0.7940833333333334, 95, 7],\n [0.7940833333333334, 90, 7],\n [0.794, 85, 7],\n [0.794, 50, 15],\n [0.7936666666666666, 75, 7],\n [0.7936666666666666, 70, 7],\n [0.7936666666666666, 65, 7],\n [0.7936666666666666, 60, 7],\n [0.7936666666666666, 55, 7],\n [0.7936666666666666, 30, 7],\n [0.7936666666666666, 25, 7],\n [0.7936666666666666, 20, 7],\n [0.7935833333333333, 50, 7],\n [0.7935833333333333, 35, 7],\n [0.7935, 45, 7],\n [0.7935, 40, 7],\n [0.7931666666666667, 45, 15],\n [0.793, 35, 15],\n [0.7929166666666667, 30, 15],\n [0.7925, 40, 15],\n [0.79125, 25, 15]]"
     },
     "execution_count": 47,
     "metadata": {},
     "output_type": "execute_result"
    }
   ],
   "source": [
    "sorted(results, reverse=True)"
   ],
   "metadata": {
    "collapsed": false,
    "ExecuteTime": {
     "start_time": "2023-04-14T16:08:26.942770Z",
     "end_time": "2023-04-14T16:08:26.968687Z"
    }
   }
  },
  {
   "cell_type": "markdown",
   "source": [
    "# Minimum sample split nem indulhat 1-től?\n",
    "# Info gain hiba 8-as depth mellett, ha a min_split 20 alatti\n",
    "# 23-es min split mellett a 9-es depth is lefut"
   ],
   "metadata": {
    "collapsed": false
   }
  }
 ],
 "metadata": {
  "kernelspec": {
   "display_name": "Python 3",
   "language": "python",
   "name": "python3"
  },
  "language_info": {
   "codemirror_mode": {
    "name": "ipython",
    "version": 2
   },
   "file_extension": ".py",
   "mimetype": "text/x-python",
   "name": "python",
   "nbconvert_exporter": "python",
   "pygments_lexer": "ipython2",
   "version": "2.7.6"
  }
 },
 "nbformat": 4,
 "nbformat_minor": 0
}
