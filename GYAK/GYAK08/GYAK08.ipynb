{
 "cells": [
  {
   "cell_type": "code",
   "execution_count": 35,
   "metadata": {
    "collapsed": true,
    "ExecuteTime": {
     "start_time": "2023-04-18T13:04:41.724925Z",
     "end_time": "2023-04-18T13:04:41.985771Z"
    }
   },
   "outputs": [],
   "source": [
    "%reload_ext autoreload\n",
    "%autoreload 2"
   ]
  },
  {
   "cell_type": "code",
   "execution_count": 36,
   "outputs": [],
   "source": [
    "import pandas as pd\n",
    "import numpy as np\n",
    "from sklearn.datasets import load_iris\n",
    "from sklearn.model_selection import train_test_split\n",
    "from sklearn.metrics import accuracy_score\n",
    "\n",
    "from matplotlib import pyplot as plt\n",
    "from GYAK.GYAK08.LinearRegressionSkeleton import LinearRegression"
   ],
   "metadata": {
    "collapsed": false,
    "ExecuteTime": {
     "start_time": "2023-04-18T13:04:41.986696Z",
     "end_time": "2023-04-18T13:04:42.096198Z"
    }
   }
  },
  {
   "cell_type": "code",
   "execution_count": 37,
   "outputs": [
    {
     "data": {
      "text/plain": "     sepal length (cm)  sepal width (cm)  petal length (cm)  petal width (cm)\n0                  5.1               3.5                1.4               0.2\n1                  4.9               3.0                1.4               0.2\n2                  4.7               3.2                1.3               0.2\n3                  4.6               3.1                1.5               0.2\n4                  5.0               3.6                1.4               0.2\n..                 ...               ...                ...               ...\n145                6.7               3.0                5.2               2.3\n146                6.3               2.5                5.0               1.9\n147                6.5               3.0                5.2               2.0\n148                6.2               3.4                5.4               2.3\n149                5.9               3.0                5.1               1.8\n\n[150 rows x 4 columns]",
      "text/html": "<div>\n<style scoped>\n    .dataframe tbody tr th:only-of-type {\n        vertical-align: middle;\n    }\n\n    .dataframe tbody tr th {\n        vertical-align: top;\n    }\n\n    .dataframe thead th {\n        text-align: right;\n    }\n</style>\n<table border=\"1\" class=\"dataframe\">\n  <thead>\n    <tr style=\"text-align: right;\">\n      <th></th>\n      <th>sepal length (cm)</th>\n      <th>sepal width (cm)</th>\n      <th>petal length (cm)</th>\n      <th>petal width (cm)</th>\n    </tr>\n  </thead>\n  <tbody>\n    <tr>\n      <th>0</th>\n      <td>5.1</td>\n      <td>3.5</td>\n      <td>1.4</td>\n      <td>0.2</td>\n    </tr>\n    <tr>\n      <th>1</th>\n      <td>4.9</td>\n      <td>3.0</td>\n      <td>1.4</td>\n      <td>0.2</td>\n    </tr>\n    <tr>\n      <th>2</th>\n      <td>4.7</td>\n      <td>3.2</td>\n      <td>1.3</td>\n      <td>0.2</td>\n    </tr>\n    <tr>\n      <th>3</th>\n      <td>4.6</td>\n      <td>3.1</td>\n      <td>1.5</td>\n      <td>0.2</td>\n    </tr>\n    <tr>\n      <th>4</th>\n      <td>5.0</td>\n      <td>3.6</td>\n      <td>1.4</td>\n      <td>0.2</td>\n    </tr>\n    <tr>\n      <th>...</th>\n      <td>...</td>\n      <td>...</td>\n      <td>...</td>\n      <td>...</td>\n    </tr>\n    <tr>\n      <th>145</th>\n      <td>6.7</td>\n      <td>3.0</td>\n      <td>5.2</td>\n      <td>2.3</td>\n    </tr>\n    <tr>\n      <th>146</th>\n      <td>6.3</td>\n      <td>2.5</td>\n      <td>5.0</td>\n      <td>1.9</td>\n    </tr>\n    <tr>\n      <th>147</th>\n      <td>6.5</td>\n      <td>3.0</td>\n      <td>5.2</td>\n      <td>2.0</td>\n    </tr>\n    <tr>\n      <th>148</th>\n      <td>6.2</td>\n      <td>3.4</td>\n      <td>5.4</td>\n      <td>2.3</td>\n    </tr>\n    <tr>\n      <th>149</th>\n      <td>5.9</td>\n      <td>3.0</td>\n      <td>5.1</td>\n      <td>1.8</td>\n    </tr>\n  </tbody>\n</table>\n<p>150 rows × 4 columns</p>\n</div>"
     },
     "execution_count": 37,
     "metadata": {},
     "output_type": "execute_result"
    }
   ],
   "source": [
    "# Load the iris dataset\n",
    "iris = load_iris()\n",
    "df = pd.DataFrame(iris.data, columns=iris.feature_names)\n",
    "df"
   ],
   "metadata": {
    "collapsed": false,
    "ExecuteTime": {
     "start_time": "2023-04-18T13:04:42.097198Z",
     "end_time": "2023-04-18T13:04:42.222549Z"
    }
   }
  },
  {
   "cell_type": "code",
   "execution_count": 38,
   "outputs": [],
   "source": [
    "X = df['petal width (cm)'].values\n",
    "y = df['sepal length (cm)'].values"
   ],
   "metadata": {
    "collapsed": false,
    "ExecuteTime": {
     "start_time": "2023-04-18T13:04:42.223549Z",
     "end_time": "2023-04-18T13:04:42.362548Z"
    }
   }
  },
  {
   "cell_type": "code",
   "execution_count": 39,
   "outputs": [
    {
     "data": {
      "text/plain": "<Figure size 640x480 with 1 Axes>",
      "image/png": "[encoded data removed]"
     },
     "metadata": {},
     "output_type": "display_data"
    }
   ],
   "source": [
    "# Split the data into training and testing sets\n",
    "X_train, X_test, y_train, y_test = train_test_split(X, y, test_size=0.2, random_state=42)\n",
    "plt.scatter(X_train, y_train)\n",
    "plt.show()"
   ],
   "metadata": {
    "collapsed": false,
    "ExecuteTime": {
     "start_time": "2023-04-18T13:04:42.349549Z",
     "end_time": "2023-04-18T13:04:42.550404Z"
    }
   }
  },
  {
   "cell_type": "code",
   "execution_count": 40,
   "outputs": [],
   "source": [
    "regression = LinearRegression()"
   ],
   "metadata": {
    "collapsed": false,
    "ExecuteTime": {
     "start_time": "2023-04-18T13:04:42.551402Z",
     "end_time": "2023-04-18T13:04:42.662335Z"
    }
   }
  },
  {
   "cell_type": "code",
   "execution_count": 41,
   "outputs": [
    {
     "name": "stdout",
     "output_type": "stream",
     "text": [
      "5.809166666666666\n",
      "3.5664605404142944\n",
      "2.267586223792104\n",
      "1.5119126138879924\n",
      "1.0690035714555222\n",
      "0.8063106764303264\n",
      "0.6475858994028542\n",
      "0.5489627461872929\n",
      "0.4851993752529476\n",
      "0.44176634574828655\n",
      "0.4102958889713674\n",
      "0.3859645512498455\n",
      "0.36598781062252717\n",
      "0.3487542427975664\n",
      "0.3333275227386032\n",
      "0.3191599865202875\n",
      "0.3059278720995791\n",
      "0.2934365439731181\n",
      "0.28156596944738876\n",
      "0.2702393460663258\n",
      "0.2594050448958265\n",
      "0.2490262128988329\n",
      "0.23907478090743428\n",
      "0.2295280059347369\n",
      "0.22036647155941858\n",
      "0.21157292735281927\n",
      "0.20313161129779853\n",
      "0.1950278504010459\n",
      "0.18724782169363274\n",
      "0.17977840584906435\n",
      "0.17260709442594777\n",
      "0.16572192829436416\n",
      "0.15911145432554502\n",
      "0.15276469290058173\n",
      "0.14667111194413865\n",
      "0.14082060500129073\n",
      "0.1352034719185689\n",
      "0.1298104012904254\n",
      "0.12463245417810137\n",
      "0.11966104880693888\n",
      "0.11488794606342824\n",
      "0.11030523567958334\n",
      "0.10590532303103094\n",
      "0.10168091649770909\n",
      "0.0976250153494139\n",
      "0.09373089812653021\n",
      "0.08999211149106777\n",
      "0.08640245952634437\n",
      "0.08295599346575161\n",
      "0.07964700183255043\n",
      "0.07647000097374464\n",
      "0.07341972597190059\n",
      "0.07049112191979184\n",
      "0.06767933554321005\n",
      "0.06497970715800934\n",
      "0.06238776294803801\n",
      "0.05989920755107715\n",
      "0.05750991694057656\n",
      "0.05521593159130134\n",
      "0.053013449917635146\n",
      "0.05089882197356269\n",
      "0.04886854340401738\n",
      "0.046919249637464376\n",
      "0.04504771031014564\n",
      "0.04325082391271248\n",
      "0.04152561265044254\n",
      "0.039869217508430504\n",
      "0.038278893513628474\n",
      "0.03675200518590573\n",
      "0.03528602217051702\n",
      "0.033878515044828715\n",
      "0.03252715129225994\n",
      "0.031229691436880237\n",
      "0.02998398533211797\n",
      "0.02878796859757134\n",
      "0.027639659197906636\n",
      "0.026537154158242694\n",
      "0.025478626410547524\n",
      "0.02446232176582521\n",
      "0.023486556007077424\n",
      "0.022549712098233008\n",
      "0.02165023750437811\n",
      "0.0207866416189254\n",
      "0.019957493293380844\n",
      "0.019161418465628643\n",
      "0.018397097882872856\n",
      "0.017663264915327267\n",
      "0.016958703457220725\n",
      "0.016282245911420076\n",
      "0.015632771254521116\n",
      "0.015009203179075148\n",
      "0.014410508309945525\n",
      "0.01383569449179846\n",
      "0.01328380914490465\n",
      "0.012753937686529378\n",
      "0.01224520201528385\n",
      "0.011756759055953548\n",
      "0.01128779936233147\n",
      "0.01083754577582019\n",
      "0.010405252137539045\n"
     ]
    }
   ],
   "source": [
    "regression.fit(X_train, y_train)"
   ],
   "metadata": {
    "collapsed": false,
    "ExecuteTime": {
     "start_time": "2023-04-18T13:04:42.666333Z",
     "end_time": "2023-04-18T13:04:42.979000Z"
    }
   }
  },
  {
   "cell_type": "code",
   "execution_count": 42,
   "outputs": [
    {
     "name": "stdout",
     "output_type": "stream",
     "text": [
      "Mean Absolute Error: 0.2784024628381445\n",
      "Mean Squared Error: 0.16736490558209907\n"
     ]
    }
   ],
   "source": [
    "regression.evaluate(X_test, y_test)"
   ],
   "metadata": {
    "collapsed": false,
    "ExecuteTime": {
     "start_time": "2023-04-18T13:04:42.981078Z",
     "end_time": "2023-04-18T13:04:43.102325Z"
    }
   }
  },
  {
   "cell_type": "code",
   "execution_count": 43,
   "outputs": [
    {
     "data": {
      "text/plain": "<Figure size 640x480 with 1 Axes>",
      "image/png": "[encoded data removed]"
     },
     "metadata": {},
     "output_type": "display_data"
    }
   ],
   "source": [
    "regression.plot_prediction(X_test, y_test)"
   ],
   "metadata": {
    "collapsed": false,
    "ExecuteTime": {
     "start_time": "2023-04-18T13:04:43.102325Z",
     "end_time": "2023-04-18T13:04:43.293587Z"
    }
   }
  },
  {
   "cell_type": "code",
   "execution_count": 43,
   "outputs": [],
   "source": [],
   "metadata": {
    "collapsed": false,
    "ExecuteTime": {
     "start_time": "2023-04-18T13:04:43.295591Z",
     "end_time": "2023-04-18T13:04:43.309840Z"
    }
   }
  }
 ],
 "metadata": {
  "kernelspec": {
   "display_name": "Python 3",
   "language": "python",
   "name": "python3"
  },
  "language_info": {
   "codemirror_mode": {
    "name": "ipython",
    "version": 2
   },
   "file_extension": ".py",
   "mimetype": "text/x-python",
   "name": "python",
   "nbconvert_exporter": "python",
   "pygments_lexer": "ipython2",
   "version": "2.7.6"
  }
 },
 "nbformat": 4,
 "nbformat_minor": 0
}
