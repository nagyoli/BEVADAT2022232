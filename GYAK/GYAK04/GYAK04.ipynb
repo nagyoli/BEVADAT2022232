{
 "cells": [
  {
   "cell_type": "code",
   "execution_count": null,
   "metadata": {
    "id": "FWoembWP4fzp"
   },
   "outputs": [],
   "source": [
    "import pandas as pd\n",
    "import matplotlib.pyplot as plt\n",
    "from typing import Dict"
   ]
  },
  {
   "cell_type": "code",
   "execution_count": null,
   "metadata": {
    "id": "lO6tWBK54fzq"
   },
   "outputs": [],
   "source": [
    "'''\n",
    "FONTOS: Az első feladatáltal visszaadott DataFrame-et kell használni a további feladatokhoz. \n",
    "A függvényeken belül mindig készíts egy másolatot a bemenő df-ről, (new_df = df.copy() és ezzel dolgozz tovább.)\n",
    "'''"
   ]
  },
  {
   "cell_type": "code",
   "execution_count": null,
   "metadata": {
    "id": "ZiOOyVt54fzv"
   },
   "outputs": [],
   "source": [
    "'''\n",
    "Készíts egy függvényt ami a bemeneti dictionary-ből egy DataFrame-et ad vissza.\n",
    "\n",
    "Egy példa a bemenetre: test_dict\n",
    "Egy példa a kimenetre: test_df\n",
    "return type: pandas.core.frame.DataFrame\n",
    "függvény neve: dict_to_dataframe\n",
    "'''"
   ]
  },
  {
   "cell_type": "code",
   "execution_count": null,
   "metadata": {
    "id": "0Cw17CMl4fzw"
   },
   "outputs": [],
   "source": [
    "stats = {\"country\": [\"Brazil\", \"Russia\", \"India\", \"China\", \"South Africa\"],\n",
    "       \"capital\": [\"Brasilia\", \"Moscow\", \"New Dehli\", \"Beijing\", \"Pretoria\"],\n",
    "       \"area\": [8.516, 17.10, 3.286, 9.597, 1.221],\n",
    "       \"population\": [200.4, 143.5, 1252, 1357, 52.98] }"
   ]
  },
  {
   "cell_type": "code",
   "execution_count": null,
   "metadata": {},
   "outputs": [],
   "source": [
    "def dict_to_dataframe(test_dict: Dict) -> pd.DataFrame:\n",
    "       result: pd.DataFrame = pd.DataFrame.from_dict(test_dict)\n",
    "       return result"
   ]
  },
  {
   "cell_type": "code",
   "execution_count": null,
   "metadata": {
    "id": "ZLppLg8l4fzw"
   },
   "outputs": [],
   "source": [
    "'''\n",
    "Készíts egy függvényt ami a bemeneti DataFrame-ből vissza adja csak azt az oszlopot amelynek a neve a bemeneti string-el megegyező.\n",
    "\n",
    "Egy példa a bemenetre: test_df, 'area'\n",
    "Egy példa a kimenetre: test_df\n",
    "return type: pandas.core.series.Series\n",
    "függvény neve: get_column\n",
    "'''"
   ]
  },
  {
   "cell_type": "code",
   "execution_count": null,
   "metadata": {
    "id": "GWqaOfpO4fzw"
   },
   "outputs": [],
   "source": [
    "def get_column(input_df: pd.DataFrame, column_name: str) -> pd.Series:\n",
    "       df: pd.DataFrame = input_df.copy()\n",
    "       result: pd.Series = df[column_name]\n",
    "       return result"
   ]
  },
  {
   "cell_type": "code",
   "execution_count": null,
   "metadata": {
    "id": "0jBS2msE4fzw"
   },
   "outputs": [],
   "source": [
    "'''\n",
    "Készíts egy függvényt ami a bemeneti DataFrame-ből vissza adja a két legnagyobb területű országhoz tartozó sorokat.\n",
    "\n",
    "Egy példa a bemenetre: test_df\n",
    "Egy példa a kimenetre: test_df\n",
    "return type: pandas.core.frame.DataFrame\n",
    "függvény neve: get_top_two\n",
    "'''"
   ]
  },
  {
   "cell_type": "code",
   "execution_count": null,
   "metadata": {
    "id": "KJmekgsc4fzx"
   },
   "outputs": [],
   "source": [
    "def get_top_two(input_df: pd.DataFrame) -> pd.DataFrame:\n",
    "       df: pd.DataFrame = input_df.copy()\n",
    "       return df.nlargest(2, 'area')"
   ]
  },
  {
   "cell_type": "code",
   "execution_count": null,
   "metadata": {
    "id": "vtwkI7d44fzx"
   },
   "outputs": [],
   "source": [
    "'''\n",
    "Készíts egy függvényt ami a bemeneti DataFrame-ből kiszámolja az országok népsűrűségét és eltárolja az eredményt egy új oszlopba ('density').\n",
    "(density = population / area)\n",
    "\n",
    "Egy példa a bemenetre: test_df\n",
    "Egy példa a kimenetre: test_df\n",
    "return type: pandas.core.frame.DataFrame\n",
    "függvény neve: population_density\n",
    "'''"
   ]
  },
  {
   "cell_type": "code",
   "execution_count": null,
   "metadata": {
    "id": "lWEqSv9_4fzx"
   },
   "outputs": [],
   "source": [
    "def population_density(input_df: pd.DataFrame) -> pd.DataFrame:\n",
    "       df: pd.DataFrame = input_df.copy()\n",
    "       density: pd.Series = df['population']/df['area']\n",
    "       df['density'] = density\n",
    "       return df"
   ]
  },
  {
   "cell_type": "code",
   "execution_count": null,
   "metadata": {
    "id": "7fOUFvU94fzx"
   },
   "outputs": [],
   "source": [
    "\n",
    "'''\n",
    "Készíts egy függvényt, ami a bemeneti Dataframe adatai alapján elkészít egy olyan oszlopdiagramot (bar plot),\n",
    "ami vizualizálja az országok népességét.\n",
    "\n",
    "Az oszlopdiagram címe legyen: 'Population of Countries'\n",
    "Az x tengely címe legyen: 'Country'\n",
    "Az y tengely címe legyen: 'Population (millions)'\n",
    "\n",
    "Egy példa a bemenetre: test_df\n",
    "Egy példa a kimenetre: fig\n",
    "return type: matplotlib.figure.Figure\n",
    "függvény neve: plot_population\n",
    "'''"
   ]
  },
  {
   "cell_type": "code",
   "execution_count": null,
   "metadata": {
    "id": "NHGI5NsA4fzy"
   },
   "outputs": [],
   "source": [
    "def plot_population(input_df: pd.DataFrame) -> plt.Figure:\n",
    "       df = input_df.copy()\n",
    "       fig, ax = plt.subplots()\n",
    "       ax.bar(df['country'], df['population'])\n",
    "       ax.set_ylabel('Population (millions)')\n",
    "       ax.set_xlabel('Country')\n",
    "       ax.set_title('Population of Countries')\n",
    "       return fig"
   ]
  },
  {
   "cell_type": "code",
   "execution_count": null,
   "metadata": {
    "id": "2__vwHkH4fzy"
   },
   "outputs": [],
   "source": [
    "'''\n",
    "Készíts egy függvényt, ami a bemeneti Dataframe adatai alapján elkészít egy olyan kördiagramot,\n",
    "ami vizualizálja az országok területét. Minden körcikknek legyen egy címe, ami az ország neve.\n",
    "\n",
    "Az kördiagram címe legyen: 'Area of Countries'\n",
    "\n",
    "Egy példa a bemenetre: test_df\n",
    "Egy példa a kimenetre: fig\n",
    "return type: matplotlib.figure.Figure\n",
    "függvény neve: plot_area\n",
    "'''"
   ]
  },
  {
   "cell_type": "code",
   "execution_count": null,
   "metadata": {
    "id": "fMCjzdSI4fzy"
   },
   "outputs": [],
   "source": [
    "def plot_area(input_df: pd.DataFrame) -> plt.Figure:\n",
    "       df: pd.DataFrame = input_df.copy()\n",
    "       areas: pd.Series = df['area']\n",
    "       countries: pd.Series =  df['country']\n",
    "       fig, ax = plt.subplots()\n",
    "       ax.set_title('Area of Countries')\n",
    "       ax.pie(areas, labels = countries)\n",
    "       return fig"
   ]
  }
 ],
 "metadata": {
  "colab": {
   "provenance": []
  },
  "kernelspec": {
   "display_name": "Python 3 (ipykernel)",
   "language": "python",
   "name": "python3"
  },
  "language_info": {
   "codemirror_mode": {
    "name": "ipython",
    "version": 3
   },
   "file_extension": ".py",
   "mimetype": "text/x-python",
   "name": "python",
   "nbconvert_exporter": "python",
   "pygments_lexer": "ipython3",
   "version": "3.9.13"
  }
 },
 "nbformat": 4,
 "nbformat_minor": 1
}
