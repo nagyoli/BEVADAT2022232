{
 "cells": [
  {
   "cell_type": "code",
   "execution_count": 134,
   "metadata": {
    "collapsed": true
   },
   "outputs": [],
   "source": [
    "import numpy as np\n",
    "from typing import Tuple\n",
    "from scipy.stats import mode\n",
    "from sklearn.metrics import confusion_matrix\n",
    "import seaborn as sns\n",
    "\n",
    "from GYAK05 import KNNClassifier as knn"
   ]
  },
  {
   "cell_type": "code",
   "execution_count": 135,
   "outputs": [],
   "source": [
    "csv_path = \"iris.csv\""
   ],
   "metadata": {
    "collapsed": false
   }
  },
  {
   "cell_type": "code",
   "execution_count": 136,
   "outputs": [],
   "source": [
    "def load_csv(csv_path:str) ->Tuple[np.ndarray,np.ndarray]:\n",
    "    np.random.seed(42)\n",
    "    dataset = np.genfromtxt(csv_path,delimiter=',')\n",
    "    np.random.shuffle(dataset,)\n",
    "    x,y = dataset[:,:4],dataset[:,-1]\n",
    "    return x,y"
   ],
   "metadata": {
    "collapsed": false
   }
  },
  {
   "cell_type": "code",
   "execution_count": 137,
   "outputs": [
    {
     "data": {
      "text/plain": "(array([[ 6.100e+00,  2.800e+00,  4.700e+00,  1.200e+00],\n        [ 5.700e+00,  3.800e+00,  1.700e+00,  3.000e-01],\n        [ 7.700e+00,  2.600e+00,  6.900e+00,  2.300e+00],\n        [ 6.000e+00,  2.900e+00,  4.500e+00,  1.500e+00],\n        [ 6.800e+00,  2.800e+00, -1.111e+03,  1.400e+00],\n        [ 5.400e+00,  3.400e+00,  1.500e+00,  4.000e-01],\n        [ 5.600e+00,  2.900e+00,  3.600e+00,  1.300e+00],\n        [ 6.900e+00,  3.100e+00,  5.100e+00,  2.300e+00],\n        [ 6.200e+00,  2.200e+00,  4.500e+00,  1.500e+00],\n        [ 5.800e+00,  2.700e+00,  3.900e+00,  1.200e+00],\n        [ 6.500e+00,  3.200e+00,  5.100e+00,  2.000e+00],\n        [ 4.800e+00,  3.000e+00,  1.400e+00,  1.000e-01],\n        [ 5.500e+00,  3.500e+00,        nan,  2.000e-01],\n        [ 4.900e+00,  3.100e+00,  1.500e+00,  1.000e-01],\n        [ 5.100e+00,  1.000e+02,  1.500e+00,  3.000e-01],\n        [ 6.300e+00,  3.300e+00,  4.700e+00,  1.600e+00],\n        [ 6.500e+00,  3.000e+00,  5.800e+00,  2.200e+00],\n        [ 5.600e+00,  2.500e+00,  3.900e+00,  1.100e+00],\n        [       nan,  2.800e+00,  4.500e+00,        nan],\n        [ 6.400e+00,        nan,  5.600e+00,  2.200e+00],\n        [ 4.700e+00,  3.200e+00,  1.600e+00,  2.000e-01],\n        [ 6.100e+00,  3.000e+00,  4.900e+00,  1.800e+00],\n        [ 5.000e+00,  3.400e+00,  1.600e+00,  4.000e-01],\n        [ 6.400e+00,  2.800e+00,  5.600e+00,  2.100e+00],\n        [ 7.900e+00,  3.800e+00,  6.400e+00,  2.000e+00],\n        [ 6.700e+00,  3.000e+00,  5.200e+00,  2.300e+00],\n        [ 6.700e+00,  2.500e+00,  5.800e+00,  1.800e+00],\n        [ 6.800e+00,  3.200e+00,  1.000e+03,  2.300e+00],\n        [ 5.000e+04,  3.000e+00,  1.400e+00,  3.000e-01],\n        [ 4.800e+00,  3.100e+00,  1.600e+00,  2.000e-01],\n        [ 4.600e+00,  3.600e+00,  1.000e+00,  2.000e-01],\n        [ 5.700e+00,  4.400e+00,  1.500e+00,  4.000e-01],\n        [ 6.700e+00,  3.100e+00,  4.400e+00,  1.400e+00],\n        [       nan,  3.400e+00,  1.600e+00,  2.000e-01],\n        [ 4.400e+00,  3.200e+00,  1.300e+00,  2.000e-01],\n        [ 6.300e+00,  2.500e+00,  5.000e+00,  1.900e+00],\n        [ 6.400e+00,  3.200e+00,  4.500e+00,  1.500e+00],\n        [ 5.200e+00,  3.500e+00,  1.500e+00,  2.000e-01],\n        [ 5.000e+00,  3.600e+00,  1.400e+00,  2.000e-01],\n        [ 5.200e+00,  4.100e+00,  1.500e+00,  1.000e-01],\n        [ 5.800e+00,  2.700e+00,  5.100e+00,  1.900e+00],\n        [ 6.000e+00,  3.400e+00,  4.500e+00,  1.600e+00],\n        [ 6.700e+00,  3.100e+00,  4.700e+00,  1.500e+00],\n        [ 5.400e+00,  3.900e+00,  1.300e+00,  4.000e-01],\n        [ 5.400e+00,  3.700e+00,  1.500e+00,  2.000e-01],\n        [ 5.500e+00,  2.400e+00,  3.700e+00,  1.000e+00],\n        [ 6.300e+00,  2.800e+00,  5.100e+00,  1.500e+00],\n        [ 6.400e+00,  3.100e+00,  5.500e+00,  1.800e+00],\n        [ 6.600e+00,  3.000e+00,  4.400e+00,  1.400e+00],\n        [ 7.200e+00,  3.600e+00,  6.100e+00,  2.500e+00],\n        [ 5.700e+00,  2.900e+00,  4.200e+00,  1.300e+00],\n        [ 7.600e+00,  3.000e+00,  6.600e+00,  2.100e+00],\n        [       nan,  3.000e+00,  4.500e+00,  1.500e+00],\n        [ 5.100e+00,  3.500e+00,  1.400e+00,  2.000e-01],\n        [ 7.700e+00,  2.800e+00,  6.700e+00,  2.000e+00],\n        [ 5.800e+00,  2.700e+00,  4.100e+00,  1.000e+00],\n        [ 5.200e+00,  3.400e+00,  1.400e+00,  2.000e-01],\n        [ 5.000e+00,  3.500e+00,  1.300e+00,  3.000e-01],\n        [ 5.100e+00,  3.800e+00,  1.900e+00,  4.000e-01],\n        [ 5.000e+00,  2.000e+00,  3.500e+00,  1.000e+00],\n        [ 6.300e+00,  2.700e+00,  4.900e+00,  1.800e+00],\n        [ 4.800e+00,  3.400e+00,  1.900e+00,  2.000e-01],\n        [ 5.000e+00,  3.000e+00,  1.600e+00,  3.000e+03],\n        [       nan,  3.300e+00,  1.700e+00,  5.000e-01],\n        [ 5.600e+00,  2.700e+00,        nan,  1.300e+00],\n        [ 5.100e+00,  3.400e+00,  1.500e+00,  2.000e-01],\n        [ 5.700e+00,  3.000e+00,  4.200e+00,  1.200e+00],\n        [ 7.700e+00,  3.800e+00,  6.700e+00,  2.200e+00],\n        [ 4.600e+00,  3.200e+00,  1.400e+00,  2.000e-01],\n        [ 6.200e+00,  2.900e+00,  4.300e+00,  1.300e+00],\n        [ 5.700e+00,  2.500e+00,  5.000e+00,  2.000e+00],\n        [ 5.500e+00,  4.200e+00,  1.400e+00,  2.000e-01],\n        [ 6.000e+00,  3.000e+00,  4.800e+00,        nan],\n        [ 5.800e+00,  2.700e+00,  5.100e+00,  1.900e+00],\n        [ 6.000e+00,  2.200e+00,  4.000e+00,  1.000e+00],\n        [ 5.400e+00,  3.000e+00,  4.500e+00,  1.500e+00],\n        [       nan,  3.400e+00,  5.400e+00,  2.300e+00],\n        [ 5.500e+00,  2.300e+00,  4.000e+00,  1.300e+00],\n        [ 5.400e+00,  3.900e+00,  1.700e+00,        nan],\n        [ 5.000e+00,  2.300e+00,  3.300e+00,  1.000e+00],\n        [ 6.400e+00,  2.700e+00,  5.300e+00,  1.900e+00],\n        [ 5.000e+00,  3.300e+00,  1.400e+00,  2.000e-01],\n        [ 5.000e+00,  3.200e+00,  1.200e+00,  2.000e-01],\n        [ 5.500e+00,  2.400e+00,  3.800e+00,  1.100e+00],\n        [ 6.700e+00,  3.000e+00,  5.000e+00,  1.700e+00],\n        [ 4.900e+00,  3.100e+00,  1.500e+00,  1.000e-01],\n        [ 5.800e+00,  2.800e+00,  5.100e+00,  2.400e+00],\n        [ 5.000e+00,  3.400e+00,  1.500e+00,  2.000e-01],\n        [ 5.000e+00,  3.500e+00,  1.600e+00,  6.000e-01],\n        [ 5.900e+00,  3.200e+00,  4.800e+00,  1.800e+00],\n        [ 5.100e+00,  2.500e+00,  3.000e+00,  1.100e+00],\n        [ 6.900e+00,  3.200e+00,  5.700e+00,  2.300e+00],\n        [ 6.000e+00,  2.700e+00,  5.100e+00,  1.600e+00],\n        [ 6.100e+00,  2.600e+00,  5.600e+00,  1.400e+00],\n        [ 7.700e+00,  3.000e+00,  6.100e+00,  2.300e+00],\n        [ 5.500e+00,  2.500e+00,  4.000e+00,  1.300e+00],\n        [ 4.400e+00,  2.900e+00,  1.400e+00,  2.000e-01],\n        [ 4.300e+00,  3.000e+00,  1.100e+00,  1.000e-01],\n        [ 6.000e+00,  2.200e+00,  5.000e+00,  1.500e+00],\n        [ 7.200e+00,  3.200e+00,  6.000e+00,  1.800e+00],\n        [ 4.600e+00,  3.100e+00,  1.500e+00,  2.000e-01],\n        [ 5.100e+00,  3.500e+00,  1.400e+00,  3.000e-01],\n        [ 4.400e+00,  3.000e+00,  1.300e+00,  2.000e-01],\n        [ 6.300e+00,  2.500e+00,  4.900e+00,  1.500e+00],\n        [ 6.300e+00,  3.400e+00,  5.600e+00,  2.400e+00],\n        [ 4.600e+00,  3.400e+00,  1.400e+00,  3.000e-01],\n        [ 6.800e+00,  3.000e+00,  5.500e+00,  2.100e+00],\n        [ 6.300e+00,  3.300e+00,  6.000e+00,  2.500e+00],\n        [ 4.700e+00,  3.200e+00,  1.300e+00,  2.000e-01],\n        [ 6.100e+00,  2.900e+00,  4.700e+00,  1.400e+00],\n        [ 6.500e+00,  2.800e+00,  4.600e+00,  1.500e+00],\n        [ 6.200e+00,  2.800e+00,  4.800e+00,  1.800e+00],\n        [ 7.000e+00,  3.200e+00,  4.700e+00,  1.400e+00],\n        [ 6.400e+00,  3.200e+00,  5.300e+00,  2.300e+00],\n        [ 5.100e+00,  3.800e+00,  1.600e+00,  2.000e-01],\n        [ 6.900e+00,  3.100e+00,  5.400e+00,  2.100e+00],\n        [ 5.900e+00,  3.000e+00,  4.200e+00,  1.500e+00],\n        [ 6.500e+00,  3.000e+00,  5.200e+00,  2.000e+00],\n        [ 5.700e+00,  2.600e+00,  3.500e+00,        nan],\n        [ 5.200e+00,  2.700e+00,  3.900e+00,  1.400e+00],\n        [       nan,  3.000e+00,  4.600e+00,  1.400e+00],\n        [ 4.500e+00,  2.300e+00,  1.300e+00,  3.000e-01],\n        [ 6.600e+00,  2.900e+00,  4.600e+00,  1.300e+00],\n        [ 5.500e+00,  2.600e+00,  4.400e+00,  1.200e+00],\n        [ 5.300e+00,  3.700e+00,  1.500e+00,  2.000e-01],\n        [ 5.600e+00,  3.000e+00,  4.100e+00,  1.300e+00],\n        [ 7.300e+00,  2.900e+00,  6.300e+00,  1.800e+00],\n        [ 6.700e+00,  3.300e+00,  5.700e+00,  2.100e+00],\n        [ 5.100e+00,  3.700e+00,  1.500e+00,  4.000e-01],\n        [ 4.900e+00,  2.400e+00,  3.300e+00,  1.000e+00],\n        [ 6.700e+00,  3.300e+00,  5.700e+00,  2.500e+00],\n        [ 7.200e+00,  3.000e+00,  5.800e+00,  1.600e+00],\n        [ 4.900e+00,  3.100e+00,  1.500e+00,  1.000e-01],\n        [       nan,  3.100e+00,  5.600e+00,  2.400e+00],\n        [ 4.900e+00,  3.000e+00,  1.400e+00,  2.000e-01],\n        [ 6.900e+00,  3.100e+00,  4.900e+00,  1.500e+00],\n        [ 7.400e+00,  2.800e+00,  6.100e+00,  1.900e+00],\n        [ 6.300e+00,  2.900e+00,  5.600e+00,  1.800e+00],\n        [ 5.700e+00,  2.800e+00,  4.100e+00,  1.300e+00],\n        [ 6.500e+00,  3.000e+00,  5.500e+00,  1.800e+00],\n        [ 6.300e+00, -4.200e+04,  4.400e+00,  1.300e+00],\n        [ 6.400e+00,  2.900e+00,  4.300e+00,  1.300e+00],\n        [ 5.600e+00,        nan,  4.900e+00,  2.000e+00],\n        [ 5.900e+00,  3.000e+00,  5.100e+00,  1.800e+00],\n        [ 5.400e+00,  3.400e+00,  1.700e+00,  2.000e-01],\n        [ 6.100e+00,  2.800e+00,  4.000e+00,  1.300e+00],\n        [ 4.900e+00,  2.500e+00,  4.500e+00,  1.700e+00],\n        [ 5.800e+00,  4.000e+00,  1.200e+00,  2.000e-01],\n        [ 5.800e+00,  2.600e+00,  4.000e+00,  1.200e+00],\n        [ 7.100e+00,  3.000e+00,  5.900e+00,  2.100e+00]]),\n array([1., 0., 2., 1., 1., 0., 1., 2., 1., 1., 2., 0., 0., 0., 0., 1., 2.,\n        1., 1., 2., 0., 2., 0., 2., 2., 2., 2., 2., 0., 0., 0., 0., 1., 0.,\n        0., 2., 1., 0., 0., 0., 2., 1., 1., 0., 0., 1., 2., 2., 1., 2., 1.,\n        2., 1., 0., 2., 1., 0., 0., 0., 1., 2., 0., 0., 0., 1., 0., 1., 2.,\n        0., 1., 2., 0., 2., 2., 1., 1., 2., 1., 0., 1., 2., 0., 0., 1., 1.,\n        0., 2., 0., 0., 1., 1., 2., 1., 2., 2., 1., 0., 0., 2., 2., 0., 0.,\n        0., 1., 2., 0., 2., 2., 0., 1., 1., 2., 1., 2., 0., 2., 1., 2., 1.,\n        1., 1., 0., 1., 1., 0., 1., 2., 2., 0., 1., 2., 2., 0., 2., 0., 1.,\n        2., 2., 1., 2., 1., 1., 2., 2., 0., 1., 2., 0., 1., 2.]))"
     },
     "execution_count": 137,
     "metadata": {},
     "output_type": "execute_result"
    }
   ],
   "source": [
    "x,y = load_csv(csv_path)\n",
    "x,y"
   ],
   "metadata": {
    "collapsed": false
   }
  },
  {
   "cell_type": "code",
   "execution_count": 138,
   "outputs": [
    {
     "data": {
      "text/plain": "(array([nan, nan, nan, nan]), array([nan, nan, nan, nan]))"
     },
     "execution_count": 138,
     "metadata": {},
     "output_type": "execute_result"
    }
   ],
   "source": [
    "np.mean(x, axis=0), np.var(x, axis=0)"
   ],
   "metadata": {
    "collapsed": false
   }
  },
  {
   "cell_type": "code",
   "execution_count": 139,
   "outputs": [
    {
     "data": {
      "text/plain": "(array([ 355.46503497, -280.09189189,    2.95      ,   21.74726027]),\n array([1.73561968e+07, 1.18405444e+07, 1.51049922e+04, 6.11729208e+04]))"
     },
     "execution_count": 139,
     "metadata": {},
     "output_type": "execute_result"
    }
   ],
   "source": [
    "np.nanmean(x, axis=0), np.nanvar(x, axis = 0)"
   ],
   "metadata": {
    "collapsed": false
   }
  },
  {
   "cell_type": "code",
   "execution_count": 140,
   "outputs": [],
   "source": [
    "x[np.isnan(x)] = 3.5"
   ],
   "metadata": {
    "collapsed": false
   }
  },
  {
   "cell_type": "code",
   "execution_count": 141,
   "outputs": [
    {
     "data": {
      "text/plain": "((144, 4), (144,))"
     },
     "execution_count": 141,
     "metadata": {},
     "output_type": "execute_result"
    }
   ],
   "source": [
    "y = np.delete(y,np.where(x < 0.0)[0],axis=0)\n",
    "y = np.delete(y,np.where(x > 13.0)[0],axis=0)\n",
    "x = np.delete(x,np.where(x < 0.0)[0],axis=0)\n",
    "x = np.delete(x,np.where(x > 13.0)[0],axis=0)\n",
    "x.shape,y.shape"
   ],
   "metadata": {
    "collapsed": false
   }
  },
  {
   "cell_type": "code",
   "execution_count": 142,
   "outputs": [],
   "source": [
    "def train_test_split(features: np.ndarray, labels: np.ndarray, test_split_ratio: float) -> Tuple[np.ndarray, np.ndarray, np.ndarray, np.ndarray]:\n",
    "    test_size = int(len(features) * test_split_ratio)\n",
    "    train_size = len(features) - test_size\n",
    "    assert len(features) == test_size + train_size, \"Size mismatch!\"\n",
    "\n",
    "    x_train,y_train = features[:train_size,:],labels[:train_size]\n",
    "    x_test,y_test = features[train_size:train_size+test_size,:], labels[train_size:train_size + test_size]\n",
    "    return (x_train,y_train,x_test,y_test)\n"
   ],
   "metadata": {
    "collapsed": false
   }
  },
  {
   "cell_type": "code",
   "execution_count": 143,
   "outputs": [],
   "source": [
    "x_train, y_train, x_test, y_test = train_test_split(x, y, 0.2)"
   ],
   "metadata": {
    "collapsed": false
   }
  },
  {
   "cell_type": "code",
   "execution_count": 144,
   "outputs": [],
   "source": [
    "def euclidean(points:np.ndarray,element_of_x:np.ndarray) -> np.ndarray:\n",
    "    return np.sqrt(np.sum((points - element_of_x)**2,axis=1))\n",
    "\n",
    "\n",
    "def predict(x_train:np.ndarray,y_train:np.ndarray,x_test:np.ndarray,k:int) -> np.ndarray:\n",
    "    labels_pred = []\n",
    "    for x_test_element in x_test:\n",
    "        distances = euclidean(x_train,x_test_element)\n",
    "        distances = np.array(sorted(zip(distances,y_train)))\n",
    "        label_pred = mode(distances[:k,1],keepdims=False).mode\n",
    "        labels_pred.append(label_pred)\n",
    "    return np.array(labels_pred,dtype=np.int32)\n"
   ],
   "metadata": {
    "collapsed": false
   }
  },
  {
   "cell_type": "code",
   "execution_count": 145,
   "outputs": [
    {
     "data": {
      "text/plain": "array([0, 1, 1, 0, 1, 2, 2, 0, 1, 2, 2, 0, 1, 0, 1, 2, 2, 1, 2, 1, 1, 2,\n       0, 1, 1, 0, 1, 2])"
     },
     "execution_count": 145,
     "metadata": {},
     "output_type": "execute_result"
    }
   ],
   "source": [
    "y_preds = predict(x_train, y_train, x_test, 3)\n",
    "y_preds"
   ],
   "metadata": {
    "collapsed": false
   }
  },
  {
   "cell_type": "code",
   "execution_count": 146,
   "outputs": [],
   "source": [
    "def accuracy(y_test:np.ndarray,y_preds:np.ndarray) -> float:\n",
    "    true_positive = (y_test == y_preds).sum()\n",
    "    return true_positive / len(y_test) * 100"
   ],
   "metadata": {
    "collapsed": false
   }
  },
  {
   "cell_type": "code",
   "execution_count": 147,
   "outputs": [],
   "source": [
    "def plot_confusion_matrix(y_test:np.ndarray,y_preds:np.ndarray):\n",
    "        conf_matrix = confusion_matrix(y_test,y_preds)\n",
    "        sns.heatmap(conf_matrix,annot=True)"
   ],
   "metadata": {
    "collapsed": false
   }
  },
  {
   "cell_type": "code",
   "execution_count": 148,
   "outputs": [
    {
     "data": {
      "text/plain": "<Figure size 640x480 with 2 Axes>",
      "image/png": "[encoded data removed]"
     },
     "metadata": {},
     "output_type": "display_data"
    }
   ],
   "source": [
    "plot_confusion_matrix(y_test, y_preds)"
   ],
   "metadata": {
    "collapsed": false
   }
  },
  {
   "cell_type": "code",
   "execution_count": 149,
   "outputs": [
    {
     "ename": "TypeError",
     "evalue": "KNNClassifier() takes no arguments",
     "output_type": "error",
     "traceback": [
      "\u001B[1;31m---------------------------------------------------------------------------\u001B[0m",
      "\u001B[1;31mTypeError\u001B[0m                                 Traceback (most recent call last)",
      "\u001B[1;32m~\\AppData\\Local\\Temp\\ipykernel_10388\\3794914033.py\u001B[0m in \u001B[0;36m<module>\u001B[1;34m\u001B[0m\n\u001B[1;32m----> 1\u001B[1;33m \u001B[0mclassifier\u001B[0m \u001B[1;33m=\u001B[0m \u001B[0mknn\u001B[0m\u001B[1;33m(\u001B[0m\u001B[1;36m3\u001B[0m\u001B[1;33m,\u001B[0m \u001B[1;36m0.2\u001B[0m\u001B[1;33m)\u001B[0m\u001B[1;33m\u001B[0m\u001B[1;33m\u001B[0m\u001B[0m\n\u001B[0m",
      "\u001B[1;31mTypeError\u001B[0m: KNNClassifier() takes no arguments"
     ]
    }
   ],
   "source": [
    "classifier = knn(3, 0.2)"
   ],
   "metadata": {
    "collapsed": false
   }
  },
  {
   "cell_type": "code",
   "execution_count": null,
   "outputs": [],
   "source": [],
   "metadata": {
    "collapsed": false
   }
  }
 ],
 "metadata": {
  "kernelspec": {
   "display_name": "Python 3",
   "language": "python",
   "name": "python3"
  },
  "language_info": {
   "codemirror_mode": {
    "name": "ipython",
    "version": 2
   },
   "file_extension": ".py",
   "mimetype": "text/x-python",
   "name": "python",
   "nbconvert_exporter": "python",
   "pygments_lexer": "ipython2",
   "version": "2.7.6"
  }
 },
 "nbformat": 4,
 "nbformat_minor": 0
}
