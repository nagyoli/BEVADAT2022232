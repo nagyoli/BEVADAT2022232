{
 "cells": [
  {
   "cell_type": "code",
   "execution_count": null,
   "metadata": {
    "collapsed": true,
    "ExecuteTime": {
     "start_time": "2023-04-01T15:01:27.032670Z",
     "end_time": "2023-04-01T15:01:27.315443Z"
    }
   },
   "outputs": [],
   "source": [
    "import numpy as np\n",
    "from typing import Tuple\n",
    "from scipy.stats import mode\n",
    "from sklearn.metrics import confusion_matrix\n",
    "import seaborn as sns\n",
    "\n",
    "from GYAK05 import KNNClassifier as knn"
   ]
  },
  {
   "cell_type": "code",
   "execution_count": null,
   "outputs": [],
   "source": [
    "csv_path = \"iris.csv\""
   ],
   "metadata": {
    "collapsed": false,
    "ExecuteTime": {
     "start_time": "2023-04-01T15:01:27.314489Z",
     "end_time": "2023-04-01T15:01:27.330390Z"
    }
   }
  },
  {
   "cell_type": "code",
   "execution_count": null,
   "outputs": [],
   "source": [
    "def load_csv(csv_path:str) ->Tuple[np.ndarray,np.ndarray]:\n",
    "    np.random.seed(42)\n",
    "    dataset = np.genfromtxt(csv_path,delimiter=',')\n",
    "    np.random.shuffle(dataset,)\n",
    "    x,y = dataset[:,:4],dataset[:,-1]\n",
    "    return x,y"
   ],
   "metadata": {
    "collapsed": false,
    "ExecuteTime": {
     "start_time": "2023-04-01T15:01:27.331484Z",
     "end_time": "2023-04-01T15:01:27.363420Z"
    }
   }
  },
  {
   "cell_type": "code",
   "execution_count": null,
   "outputs": [],
   "source": [
    "x,y = load_csv(csv_path)\n",
    "x,y"
   ],
   "metadata": {
    "collapsed": false,
    "ExecuteTime": {
     "start_time": "2023-04-01T15:01:27.349500Z",
     "end_time": "2023-04-01T15:01:27.372434Z"
    }
   }
  },
  {
   "cell_type": "code",
   "execution_count": null,
   "outputs": [],
   "source": [
    "np.mean(x, axis=0), np.var(x, axis=0)"
   ],
   "metadata": {
    "collapsed": false,
    "ExecuteTime": {
     "start_time": "2023-04-01T15:01:27.362503Z",
     "end_time": "2023-04-01T15:01:27.378420Z"
    }
   }
  },
  {
   "cell_type": "code",
   "execution_count": null,
   "outputs": [],
   "source": [
    "np.nanmean(x, axis=0), np.nanvar(x, axis = 0)"
   ],
   "metadata": {
    "collapsed": false,
    "ExecuteTime": {
     "start_time": "2023-04-01T15:01:27.379503Z",
     "end_time": "2023-04-01T15:01:27.438249Z"
    }
   }
  },
  {
   "cell_type": "code",
   "execution_count": null,
   "outputs": [],
   "source": [
    "x[np.isnan(x)] = 3.5"
   ],
   "metadata": {
    "collapsed": false,
    "ExecuteTime": {
     "start_time": "2023-04-01T15:01:27.395249Z",
     "end_time": "2023-04-01T15:01:27.452249Z"
    }
   }
  },
  {
   "cell_type": "code",
   "execution_count": null,
   "outputs": [],
   "source": [
    "y = np.delete(y,np.where(x < 0.0)[0],axis=0)\n",
    "y = np.delete(y,np.where(x > 13.0)[0],axis=0)\n",
    "x = np.delete(x,np.where(x < 0.0)[0],axis=0)\n",
    "x = np.delete(x,np.where(x > 13.0)[0],axis=0)\n",
    "x.shape,y.shape"
   ],
   "metadata": {
    "collapsed": false,
    "ExecuteTime": {
     "start_time": "2023-04-01T15:01:27.414249Z",
     "end_time": "2023-04-01T15:01:27.453249Z"
    }
   }
  },
  {
   "cell_type": "code",
   "execution_count": null,
   "outputs": [],
   "source": [
    "def train_test_split(features: np.ndarray, labels: np.ndarray, test_split_ratio: float) -> Tuple[np.ndarray, np.ndarray, np.ndarray, np.ndarray]:\n",
    "    test_size = int(len(features) * test_split_ratio)\n",
    "    train_size = len(features) - test_size\n",
    "    assert len(features) == test_size + train_size, \"Size mismatch!\"\n",
    "\n",
    "    x_train,y_train = features[:train_size,:],labels[:train_size]\n",
    "    x_test,y_test = features[train_size:train_size+test_size,:], labels[train_size:train_size + test_size]\n",
    "    return (x_train,y_train,x_test,y_test)\n"
   ],
   "metadata": {
    "collapsed": false,
    "ExecuteTime": {
     "start_time": "2023-04-01T15:01:27.427249Z",
     "end_time": "2023-04-01T15:01:27.453249Z"
    }
   }
  },
  {
   "cell_type": "code",
   "execution_count": null,
   "outputs": [],
   "source": [
    "x_train, y_train, x_test, y_test = train_test_split(x, y, 0.2)"
   ],
   "metadata": {
    "collapsed": false,
    "ExecuteTime": {
     "start_time": "2023-04-01T15:01:27.441249Z",
     "end_time": "2023-04-01T15:01:27.461248Z"
    }
   }
  },
  {
   "cell_type": "code",
   "execution_count": null,
   "outputs": [],
   "source": [
    "x_train.shape, y_train.shape, x_test.shape, y_test.shape"
   ],
   "metadata": {
    "collapsed": false,
    "ExecuteTime": {
     "start_time": "2023-04-01T15:01:27.457249Z",
     "end_time": "2023-04-01T15:01:27.502249Z"
    }
   }
  },
  {
   "cell_type": "code",
   "execution_count": null,
   "outputs": [],
   "source": [
    "def euclidean(points:np.ndarray,element_of_x:np.ndarray) -> np.ndarray:\n",
    "    return np.sqrt(np.sum((points - element_of_x)**2,axis=1))\n",
    "\n",
    "\n",
    "def predict(x_train:np.ndarray,y_train:np.ndarray,x_test:np.ndarray,k:int) -> np.ndarray:\n",
    "    labels_pred = []\n",
    "    for x_test_element in x_test:\n",
    "        distances = euclidean(x_train,x_test_element)\n",
    "        distances = np.array(sorted(zip(distances,y_train)))\n",
    "        label_pred = mode(distances[:k,1],keepdims=False).mode\n",
    "        labels_pred.append(label_pred)\n",
    "    return np.array(labels_pred,dtype=np.int32)\n"
   ],
   "metadata": {
    "collapsed": false,
    "ExecuteTime": {
     "start_time": "2023-04-01T15:01:27.475248Z",
     "end_time": "2023-04-01T15:01:27.502249Z"
    }
   }
  },
  {
   "cell_type": "code",
   "execution_count": null,
   "outputs": [],
   "source": [
    "y_preds = predict(x_train, y_train, x_test, 3)\n",
    "y_preds"
   ],
   "metadata": {
    "collapsed": false,
    "ExecuteTime": {
     "start_time": "2023-04-01T15:01:27.488249Z",
     "end_time": "2023-04-01T15:01:27.513249Z"
    }
   }
  },
  {
   "cell_type": "code",
   "execution_count": null,
   "outputs": [],
   "source": [
    "def accuracy(y_test:np.ndarray,y_preds:np.ndarray) -> float:\n",
    "    true_positive = (y_test == y_preds).sum()\n",
    "    return true_positive / len(y_test) * 100"
   ],
   "metadata": {
    "collapsed": false,
    "ExecuteTime": {
     "start_time": "2023-04-01T15:01:27.506249Z",
     "end_time": "2023-04-01T15:01:27.523249Z"
    }
   }
  },
  {
   "cell_type": "code",
   "execution_count": null,
   "outputs": [],
   "source": [
    "def plot_confusion_matrix(y_test:np.ndarray,y_preds:np.ndarray):\n",
    "        conf_matrix = confusion_matrix(y_test,y_preds)\n",
    "        return np.array(conf_matrix)"
   ],
   "metadata": {
    "collapsed": false,
    "ExecuteTime": {
     "start_time": "2023-04-01T15:04:33.646560Z",
     "end_time": "2023-04-01T15:04:33.676623Z"
    }
   }
  },
  {
   "cell_type": "code",
   "execution_count": null,
   "outputs": [],
   "source": [
    "plot_confusion_matrix(y_test, y_preds)"
   ],
   "metadata": {
    "collapsed": false,
    "ExecuteTime": {
     "start_time": "2023-04-01T15:04:34.029130Z",
     "end_time": "2023-04-01T15:04:34.040163Z"
    }
   }
  },
  {
   "cell_type": "code",
   "execution_count": null,
   "outputs": [],
   "source": [
    "classifier = knn(3, 0.2)"
   ],
   "metadata": {
    "collapsed": false,
    "ExecuteTime": {
     "start_time": "2023-03-31T17:06:05.536522Z",
     "end_time": "2023-03-31T17:06:05.563260Z"
    }
   }
  },
  {
   "cell_type": "code",
   "execution_count": null,
   "outputs": [],
   "source": [],
   "metadata": {
    "collapsed": false,
    "ExecuteTime": {
     "start_time": "2023-03-31T17:06:05.551253Z",
     "end_time": "2023-03-31T17:06:05.569260Z"
    }
   }
  }
 ],
 "metadata": {
  "kernelspec": {
   "display_name": "Python 3",
   "language": "python",
   "name": "python3"
  },
  "language_info": {
   "codemirror_mode": {
    "name": "ipython",
    "version": 2
   },
   "file_extension": ".py",
   "mimetype": "text/x-python",
   "name": "python",
   "nbconvert_exporter": "python",
   "pygments_lexer": "ipython2",
   "version": "2.7.6"
  }
 },
 "nbformat": 4,
 "nbformat_minor": 0
}
